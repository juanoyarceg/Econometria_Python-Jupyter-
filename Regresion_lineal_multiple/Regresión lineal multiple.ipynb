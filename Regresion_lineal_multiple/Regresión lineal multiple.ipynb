{
 "cells": [
  {
   "cell_type": "markdown",
   "metadata": {},
   "source": [
    "## Desafío  - Regresión desde el aprendizaje de máquinas\n",
    "\n",
    "* Para poder realizar este desafío debes haber revisado la lectura y videos correspondiente a la unidad.\n",
    "* Crea una carpeta de trabajo y guarda todos los archivos correspondientes (notebook y csv).\n",
    "* Una vez terminado el desafío, comprime la carpeta y sube el .zip\n",
    "\n",
    "Nombre: Juan Oyarce\n",
    "\n",
    "#### Contexto\n",
    "En esta sesión trabajaremos una base de datos sobre los precios de las viviendas en Boston,\n",
    "utilizada en el paper Harrison Jr, D., & Rubinfeld, D. L. (1978). Hedonic housing prices and the\n",
    "demand for clean air. Journal of environmental economics and management, 5(1), 81-102.\n",
    "Nuestro objetivo es desarrollar un modelo predictivo para el valor mediano de las casas mediante el\n",
    "entrenamiento de un modelo de regresión lineal.\n",
    "\n",
    "\n",
    "* crim : Tasa de criminalidad por sector de Boston\n",
    "* zn proporción de terreno residencial asignado para terrenos baldíos.\n",
    "* indus proporción de negocios no asociados al comercio por sector.\n",
    "* chas Dummy. 1 si el sector colinda con el río Charles, 0 de lo contrario.\n",
    "* nox Concentración de dióxido de carbono\n",
    "* rm cantidad promedio de habitaciones por casa.\n",
    "* age proporción de casas construídas antes de 1940\n",
    "* dis distancia promedio a cinco centros de empleos.\n",
    "* rad índice de accesibilidad a autopistas.\n",
    "* tax nivel de impuestos asociados a viviendas.\n",
    "* ptratio razón alumno:profesor por sector de Boston.\n",
    "* black proporción de afroamericanos por sector de Boston.\n",
    "* lstat porcentaje de población de estratos bajos.\n",
    "* medv valor mediano de las casas"
   ]
  },
  {
   "cell_type": "markdown",
   "metadata": {},
   "source": [
    "### Desafío 1: Prepare el ambiente de trabajo\n",
    "\n",
    "* Importe las librerías básicas para el análisis de datos.\n",
    "* Importe el módulo linear_model , y las funciones mean_squared_error , r2_score y train_test_split.\n",
    "* Importe la base de datos boston.csv y elimine la columna Unnamed: 0.\n",
    "* Obtenga las medidas descriptivas de la base de datos con .describe()."
   ]
  },
  {
   "cell_type": "code",
   "execution_count": 2,
   "metadata": {},
   "outputs": [],
   "source": [
    "import pandas as pd\n",
    "import numpy as np\n",
    "import matplotlib.pyplot as plt\n",
    "import seaborn as sns\n",
    "from scipy import stats\n",
    "import statsmodels.api as sm \n",
    "import statsmodels.formula.api as smf\n",
    "from sklearn import linear_model\n",
    "from sklearn.model_selection import train_test_split\n",
    "from sklearn.metrics import mean_squared_error, r2_score"
   ]
  },
  {
   "cell_type": "code",
   "execution_count": 3,
   "metadata": {},
   "outputs": [
    {
     "data": {
      "text/html": [
       "<div>\n",
       "<style scoped>\n",
       "    .dataframe tbody tr th:only-of-type {\n",
       "        vertical-align: middle;\n",
       "    }\n",
       "\n",
       "    .dataframe tbody tr th {\n",
       "        vertical-align: top;\n",
       "    }\n",
       "\n",
       "    .dataframe thead th {\n",
       "        text-align: right;\n",
       "    }\n",
       "</style>\n",
       "<table border=\"1\" class=\"dataframe\">\n",
       "  <thead>\n",
       "    <tr style=\"text-align: right;\">\n",
       "      <th></th>\n",
       "      <th>crim</th>\n",
       "      <th>zn</th>\n",
       "      <th>indus</th>\n",
       "      <th>chas</th>\n",
       "      <th>nox</th>\n",
       "      <th>rm</th>\n",
       "      <th>age</th>\n",
       "      <th>dis</th>\n",
       "      <th>rad</th>\n",
       "      <th>tax</th>\n",
       "      <th>ptratio</th>\n",
       "      <th>black</th>\n",
       "      <th>lstat</th>\n",
       "      <th>medv</th>\n",
       "    </tr>\n",
       "  </thead>\n",
       "  <tbody>\n",
       "    <tr>\n",
       "      <th>0</th>\n",
       "      <td>0.00632</td>\n",
       "      <td>18.0</td>\n",
       "      <td>2.31</td>\n",
       "      <td>0</td>\n",
       "      <td>0.538</td>\n",
       "      <td>6.575</td>\n",
       "      <td>65.2</td>\n",
       "      <td>4.0900</td>\n",
       "      <td>1</td>\n",
       "      <td>296</td>\n",
       "      <td>15.3</td>\n",
       "      <td>396.90</td>\n",
       "      <td>4.98</td>\n",
       "      <td>24.0</td>\n",
       "    </tr>\n",
       "    <tr>\n",
       "      <th>1</th>\n",
       "      <td>0.02731</td>\n",
       "      <td>0.0</td>\n",
       "      <td>7.07</td>\n",
       "      <td>0</td>\n",
       "      <td>0.469</td>\n",
       "      <td>6.421</td>\n",
       "      <td>78.9</td>\n",
       "      <td>4.9671</td>\n",
       "      <td>2</td>\n",
       "      <td>242</td>\n",
       "      <td>17.8</td>\n",
       "      <td>396.90</td>\n",
       "      <td>9.14</td>\n",
       "      <td>21.6</td>\n",
       "    </tr>\n",
       "    <tr>\n",
       "      <th>2</th>\n",
       "      <td>0.02729</td>\n",
       "      <td>0.0</td>\n",
       "      <td>7.07</td>\n",
       "      <td>0</td>\n",
       "      <td>0.469</td>\n",
       "      <td>7.185</td>\n",
       "      <td>61.1</td>\n",
       "      <td>4.9671</td>\n",
       "      <td>2</td>\n",
       "      <td>242</td>\n",
       "      <td>17.8</td>\n",
       "      <td>392.83</td>\n",
       "      <td>4.03</td>\n",
       "      <td>34.7</td>\n",
       "    </tr>\n",
       "    <tr>\n",
       "      <th>3</th>\n",
       "      <td>0.03237</td>\n",
       "      <td>0.0</td>\n",
       "      <td>2.18</td>\n",
       "      <td>0</td>\n",
       "      <td>0.458</td>\n",
       "      <td>6.998</td>\n",
       "      <td>45.8</td>\n",
       "      <td>6.0622</td>\n",
       "      <td>3</td>\n",
       "      <td>222</td>\n",
       "      <td>18.7</td>\n",
       "      <td>394.63</td>\n",
       "      <td>2.94</td>\n",
       "      <td>33.4</td>\n",
       "    </tr>\n",
       "    <tr>\n",
       "      <th>4</th>\n",
       "      <td>0.06905</td>\n",
       "      <td>0.0</td>\n",
       "      <td>2.18</td>\n",
       "      <td>0</td>\n",
       "      <td>0.458</td>\n",
       "      <td>7.147</td>\n",
       "      <td>54.2</td>\n",
       "      <td>6.0622</td>\n",
       "      <td>3</td>\n",
       "      <td>222</td>\n",
       "      <td>18.7</td>\n",
       "      <td>396.90</td>\n",
       "      <td>5.33</td>\n",
       "      <td>36.2</td>\n",
       "    </tr>\n",
       "  </tbody>\n",
       "</table>\n",
       "</div>"
      ],
      "text/plain": [
       "      crim    zn  indus  chas    nox     rm   age     dis  rad  tax  ptratio  \\\n",
       "0  0.00632  18.0   2.31     0  0.538  6.575  65.2  4.0900    1  296     15.3   \n",
       "1  0.02731   0.0   7.07     0  0.469  6.421  78.9  4.9671    2  242     17.8   \n",
       "2  0.02729   0.0   7.07     0  0.469  7.185  61.1  4.9671    2  242     17.8   \n",
       "3  0.03237   0.0   2.18     0  0.458  6.998  45.8  6.0622    3  222     18.7   \n",
       "4  0.06905   0.0   2.18     0  0.458  7.147  54.2  6.0622    3  222     18.7   \n",
       "\n",
       "    black  lstat  medv  \n",
       "0  396.90   4.98  24.0  \n",
       "1  396.90   9.14  21.6  \n",
       "2  392.83   4.03  34.7  \n",
       "3  394.63   2.94  33.4  \n",
       "4  396.90   5.33  36.2  "
      ]
     },
     "execution_count": 3,
     "metadata": {},
     "output_type": "execute_result"
    }
   ],
   "source": [
    "df = pd.read_csv('boston.csv').drop('Unnamed: 0', axis=1) # Eliminamos la primera columna\n",
    "df.head()"
   ]
  },
  {
   "cell_type": "code",
   "execution_count": 3,
   "metadata": {},
   "outputs": [
    {
     "data": {
      "text/html": [
       "<div>\n",
       "<style scoped>\n",
       "    .dataframe tbody tr th:only-of-type {\n",
       "        vertical-align: middle;\n",
       "    }\n",
       "\n",
       "    .dataframe tbody tr th {\n",
       "        vertical-align: top;\n",
       "    }\n",
       "\n",
       "    .dataframe thead th {\n",
       "        text-align: right;\n",
       "    }\n",
       "</style>\n",
       "<table border=\"1\" class=\"dataframe\">\n",
       "  <thead>\n",
       "    <tr style=\"text-align: right;\">\n",
       "      <th></th>\n",
       "      <th>crim</th>\n",
       "      <th>zn</th>\n",
       "      <th>indus</th>\n",
       "      <th>chas</th>\n",
       "      <th>nox</th>\n",
       "      <th>rm</th>\n",
       "      <th>age</th>\n",
       "      <th>dis</th>\n",
       "      <th>rad</th>\n",
       "      <th>tax</th>\n",
       "      <th>ptratio</th>\n",
       "      <th>black</th>\n",
       "      <th>lstat</th>\n",
       "      <th>medv</th>\n",
       "    </tr>\n",
       "  </thead>\n",
       "  <tbody>\n",
       "    <tr>\n",
       "      <th>count</th>\n",
       "      <td>506.000000</td>\n",
       "      <td>506.000000</td>\n",
       "      <td>506.000000</td>\n",
       "      <td>506.000000</td>\n",
       "      <td>506.000000</td>\n",
       "      <td>506.000000</td>\n",
       "      <td>506.000000</td>\n",
       "      <td>506.000000</td>\n",
       "      <td>506.000000</td>\n",
       "      <td>506.000000</td>\n",
       "      <td>506.000000</td>\n",
       "      <td>506.000000</td>\n",
       "      <td>506.000000</td>\n",
       "      <td>506.000000</td>\n",
       "    </tr>\n",
       "    <tr>\n",
       "      <th>mean</th>\n",
       "      <td>3.613524</td>\n",
       "      <td>11.363636</td>\n",
       "      <td>11.136779</td>\n",
       "      <td>0.069170</td>\n",
       "      <td>0.554695</td>\n",
       "      <td>6.284634</td>\n",
       "      <td>68.574901</td>\n",
       "      <td>3.795043</td>\n",
       "      <td>9.549407</td>\n",
       "      <td>408.237154</td>\n",
       "      <td>18.455534</td>\n",
       "      <td>356.674032</td>\n",
       "      <td>12.653063</td>\n",
       "      <td>22.532806</td>\n",
       "    </tr>\n",
       "    <tr>\n",
       "      <th>std</th>\n",
       "      <td>8.601545</td>\n",
       "      <td>23.322453</td>\n",
       "      <td>6.860353</td>\n",
       "      <td>0.253994</td>\n",
       "      <td>0.115878</td>\n",
       "      <td>0.702617</td>\n",
       "      <td>28.148861</td>\n",
       "      <td>2.105710</td>\n",
       "      <td>8.707259</td>\n",
       "      <td>168.537116</td>\n",
       "      <td>2.164946</td>\n",
       "      <td>91.294864</td>\n",
       "      <td>7.141062</td>\n",
       "      <td>9.197104</td>\n",
       "    </tr>\n",
       "    <tr>\n",
       "      <th>min</th>\n",
       "      <td>0.006320</td>\n",
       "      <td>0.000000</td>\n",
       "      <td>0.460000</td>\n",
       "      <td>0.000000</td>\n",
       "      <td>0.385000</td>\n",
       "      <td>3.561000</td>\n",
       "      <td>2.900000</td>\n",
       "      <td>1.129600</td>\n",
       "      <td>1.000000</td>\n",
       "      <td>187.000000</td>\n",
       "      <td>12.600000</td>\n",
       "      <td>0.320000</td>\n",
       "      <td>1.730000</td>\n",
       "      <td>5.000000</td>\n",
       "    </tr>\n",
       "    <tr>\n",
       "      <th>25%</th>\n",
       "      <td>0.082045</td>\n",
       "      <td>0.000000</td>\n",
       "      <td>5.190000</td>\n",
       "      <td>0.000000</td>\n",
       "      <td>0.449000</td>\n",
       "      <td>5.885500</td>\n",
       "      <td>45.025000</td>\n",
       "      <td>2.100175</td>\n",
       "      <td>4.000000</td>\n",
       "      <td>279.000000</td>\n",
       "      <td>17.400000</td>\n",
       "      <td>375.377500</td>\n",
       "      <td>6.950000</td>\n",
       "      <td>17.025000</td>\n",
       "    </tr>\n",
       "    <tr>\n",
       "      <th>50%</th>\n",
       "      <td>0.256510</td>\n",
       "      <td>0.000000</td>\n",
       "      <td>9.690000</td>\n",
       "      <td>0.000000</td>\n",
       "      <td>0.538000</td>\n",
       "      <td>6.208500</td>\n",
       "      <td>77.500000</td>\n",
       "      <td>3.207450</td>\n",
       "      <td>5.000000</td>\n",
       "      <td>330.000000</td>\n",
       "      <td>19.050000</td>\n",
       "      <td>391.440000</td>\n",
       "      <td>11.360000</td>\n",
       "      <td>21.200000</td>\n",
       "    </tr>\n",
       "    <tr>\n",
       "      <th>75%</th>\n",
       "      <td>3.677082</td>\n",
       "      <td>12.500000</td>\n",
       "      <td>18.100000</td>\n",
       "      <td>0.000000</td>\n",
       "      <td>0.624000</td>\n",
       "      <td>6.623500</td>\n",
       "      <td>94.075000</td>\n",
       "      <td>5.188425</td>\n",
       "      <td>24.000000</td>\n",
       "      <td>666.000000</td>\n",
       "      <td>20.200000</td>\n",
       "      <td>396.225000</td>\n",
       "      <td>16.955000</td>\n",
       "      <td>25.000000</td>\n",
       "    </tr>\n",
       "    <tr>\n",
       "      <th>max</th>\n",
       "      <td>88.976200</td>\n",
       "      <td>100.000000</td>\n",
       "      <td>27.740000</td>\n",
       "      <td>1.000000</td>\n",
       "      <td>0.871000</td>\n",
       "      <td>8.780000</td>\n",
       "      <td>100.000000</td>\n",
       "      <td>12.126500</td>\n",
       "      <td>24.000000</td>\n",
       "      <td>711.000000</td>\n",
       "      <td>22.000000</td>\n",
       "      <td>396.900000</td>\n",
       "      <td>37.970000</td>\n",
       "      <td>50.000000</td>\n",
       "    </tr>\n",
       "  </tbody>\n",
       "</table>\n",
       "</div>"
      ],
      "text/plain": [
       "             crim          zn       indus        chas         nox          rm  \\\n",
       "count  506.000000  506.000000  506.000000  506.000000  506.000000  506.000000   \n",
       "mean     3.613524   11.363636   11.136779    0.069170    0.554695    6.284634   \n",
       "std      8.601545   23.322453    6.860353    0.253994    0.115878    0.702617   \n",
       "min      0.006320    0.000000    0.460000    0.000000    0.385000    3.561000   \n",
       "25%      0.082045    0.000000    5.190000    0.000000    0.449000    5.885500   \n",
       "50%      0.256510    0.000000    9.690000    0.000000    0.538000    6.208500   \n",
       "75%      3.677082   12.500000   18.100000    0.000000    0.624000    6.623500   \n",
       "max     88.976200  100.000000   27.740000    1.000000    0.871000    8.780000   \n",
       "\n",
       "              age         dis         rad         tax     ptratio       black  \\\n",
       "count  506.000000  506.000000  506.000000  506.000000  506.000000  506.000000   \n",
       "mean    68.574901    3.795043    9.549407  408.237154   18.455534  356.674032   \n",
       "std     28.148861    2.105710    8.707259  168.537116    2.164946   91.294864   \n",
       "min      2.900000    1.129600    1.000000  187.000000   12.600000    0.320000   \n",
       "25%     45.025000    2.100175    4.000000  279.000000   17.400000  375.377500   \n",
       "50%     77.500000    3.207450    5.000000  330.000000   19.050000  391.440000   \n",
       "75%     94.075000    5.188425   24.000000  666.000000   20.200000  396.225000   \n",
       "max    100.000000   12.126500   24.000000  711.000000   22.000000  396.900000   \n",
       "\n",
       "            lstat        medv  \n",
       "count  506.000000  506.000000  \n",
       "mean    12.653063   22.532806  \n",
       "std      7.141062    9.197104  \n",
       "min      1.730000    5.000000  \n",
       "25%      6.950000   17.025000  \n",
       "50%     11.360000   21.200000  \n",
       "75%     16.955000   25.000000  \n",
       "max     37.970000   50.000000  "
      ]
     },
     "execution_count": 3,
     "metadata": {},
     "output_type": "execute_result"
    }
   ],
   "source": [
    "df.describe() #Extraemos las estadísticas descriptivas de las variables numéricas"
   ]
  },
  {
   "cell_type": "markdown",
   "metadata": {},
   "source": [
    "### Desafío 2: División de la muestra\n",
    "\n",
    "* Genere conjuntos de entrenamiento y validación con train_test_split.\n",
    "* Genere una segmentación del 33% para las muestras de validación.\n",
    "* Incluya una semilla pseudoaleatoria"
   ]
  },
  {
   "cell_type": "code",
   "execution_count": 7,
   "metadata": {},
   "outputs": [],
   "source": [
    "# generamos la matriz de regresores y el vector objetivo a predecir\n",
    "y_vector = df.loc[:, 'medv']\n",
    "x_matriz = df.loc[:, 'crim':'lstat']"
   ]
  },
  {
   "cell_type": "code",
   "execution_count": 8,
   "metadata": {},
   "outputs": [],
   "source": [
    "# conjunto de entrenamiento y test con los parametros sugeridos\n",
    "x_train, x_test, y_train, y_test = train_test_split(x_matriz, y_vector, test_size=.33, random_state=18231) "
   ]
  },
  {
   "cell_type": "markdown",
   "metadata": {},
   "source": [
    "### Desafío 3: Generación de modelos\n",
    "Ahora implementaremos dos versiones del modelo lineal:\n",
    "* Con intercepto y atributos normalizados.\n",
    "* Sin intercepto y atributos no normalizados.\n",
    "\n",
    "\n",
    "* Cada versión debe generarse en un nuevo objeto inicializado.\n",
    "* Posteriormente se deben entrenar los modelos especificando la matriz y vector de entrenamiento.\n",
    "* Con los modelos entrenados, genere una predicción con su matriz de validación."
   ]
  },
  {
   "cell_type": "code",
   "execution_count": 21,
   "metadata": {},
   "outputs": [
    {
     "data": {
      "text/plain": [
       "LinearRegression(copy_X=True, fit_intercept=True, n_jobs=None, normalize=True)"
      ]
     },
     "execution_count": 21,
     "metadata": {},
     "output_type": "execute_result"
    }
   ],
   "source": [
    "modelo_1 = linear_model.LinearRegression(fit_intercept=True, normalize=True)\n",
    "modelo_1.fit(x_train, y_train)"
   ]
  },
  {
   "cell_type": "code",
   "execution_count": 22,
   "metadata": {},
   "outputs": [
    {
     "name": "stdout",
     "output_type": "stream",
     "text": [
      "La lista de pendientes:  Index(['crim', 'zn', 'indus', 'chas', 'nox', 'rm', 'age', 'dis', 'rad', 'tax',\n",
      "       'ptratio', 'black', 'lstat'],\n",
      "      dtype='object')\n",
      "\n",
      "\n",
      "El valor de los coficientes de las  pendientes:  [-1.44746065e-01  4.75498100e-02  1.31155293e-02  1.25947873e+00\n",
      " -1.78647717e+01  3.17924801e+00 -3.88004279e-03 -1.57587255e+00\n",
      "  3.40354072e-01 -1.36821931e-02 -9.32117515e-01  6.42574783e-03\n",
      " -5.31912524e-01]\n",
      "\n",
      "\n",
      "El intercepto del modelo es : 42.43428523621879\n"
     ]
    }
   ],
   "source": [
    "# Estadísticos del modelo\n",
    "\n",
    "# imprimamos la lista de coeficientes\n",
    "print(\"La lista de pendientes: \", x_matriz.columns)\n",
    "print('\\n')\n",
    "print(\"El valor de los coficientes de las  pendientes: \", modelo_1.coef_)\n",
    "print('\\n')\n",
    "# imprimamos el intercepto del modelo\n",
    "print(\"El intercepto del modelo es :\", modelo_1.intercept_)"
   ]
  },
  {
   "cell_type": "code",
   "execution_count": 20,
   "metadata": {
    "scrolled": true
   },
   "outputs": [
    {
     "name": "stdout",
     "output_type": "stream",
     "text": [
      "La cantidad de predicciones realizadas son:  167\n",
      "\n",
      "\n",
      "Las predicciones son:  [23.79 24.37  4.51 29.75 30.59 22.82 19.76 27.5  20.91 24.73 24.93 24.28\n",
      " 20.88 16.99 19.38 20.93 21.66 28.62 12.46 23.54 21.73 42.48 36.99 19.2\n",
      " 21.67 19.82 19.88 23.2  17.84 23.89 11.51 13.96 31.96 20.26 35.16 34.48\n",
      " 35.32 21.79 33.41 15.97 14.68 35.47 19.84  4.97 27.12 -3.84 19.35 27.45\n",
      " 19.26 21.49 32.82 25.47 17.8  19.53 23.88 17.85 26.01 42.46 10.45 20.93\n",
      " 15.16 34.45 17.33 28.89 14.7  39.86 31.06 13.39 17.81 16.48 21.61 19.74\n",
      " 29.03  9.38 19.79 28.25 32.38 19.7  31.52 33.93 38.05 36.6  25.11 25.64\n",
      " 35.38 14.58 16.4  28.61 31.31 13.47 29.99 31.23 14.42 28.72 37.02 22.34\n",
      " 19.14 28.22 22.43 31.08 15.19 32.1  20.74 21.17 18.03 32.82 30.26 19.63\n",
      " 29.47 32.45 30.52 38.99 22.52 27.25 25.09 19.59 27.64 12.44 42.04 13.78\n",
      " 22.18  6.77 13.39 16.65 20.1  22.32 25.18 16.03 18.72 27.16 25.   20.96\n",
      " 19.7  25.71 17.68 24.83 16.45 31.62 21.72 29.84 21.11 28.18 21.78 27.58\n",
      " 24.59 19.03 31.37 13.36 20.68 16.26 31.72 29.16 34.09 30.95 24.27 20.8\n",
      " 30.57 23.06 28.22 19.76 15.21 15.83 25.7  17.87 19.23 15.15 30.36]\n"
     ]
    }
   ],
   "source": [
    "# Predicciones del modelo\n",
    "\n",
    "modelo_1_yhat = modelo_1.predict(x_test)\n",
    "print(\"La cantidad de predicciones realizadas son: \", len(modelo_1_yhat))\n",
    "print('\\n')\n",
    "print(\"Las predicciones son: \", modelo_1_yhat.round(2))"
   ]
  },
  {
   "cell_type": "code",
   "execution_count": 24,
   "metadata": {},
   "outputs": [
    {
     "data": {
      "text/plain": [
       "LinearRegression(copy_X=True, fit_intercept=False, n_jobs=None,\n",
       "         normalize=False)"
      ]
     },
     "execution_count": 24,
     "metadata": {},
     "output_type": "execute_result"
    }
   ],
   "source": [
    "modelo_2 = linear_model.LinearRegression(fit_intercept=False, normalize=False)\n",
    "modelo_2.fit(x_train, y_train)"
   ]
  },
  {
   "cell_type": "code",
   "execution_count": 25,
   "metadata": {},
   "outputs": [
    {
     "name": "stdout",
     "output_type": "stream",
     "text": [
      "La lista de pendientes:  Index(['crim', 'zn', 'indus', 'chas', 'nox', 'rm', 'age', 'dis', 'rad', 'tax',\n",
      "       'ptratio', 'black', 'lstat'],\n",
      "      dtype='object')\n",
      "\n",
      "\n",
      "El valor de los coficientes de las  pendientes:  [-0.14792651  0.05304955 -0.04693842  0.90938829  0.07411468  5.56396332\n",
      " -0.01280929 -1.02877907  0.20307207 -0.01031809 -0.27820542  0.01367089\n",
      " -0.38919427]\n",
      "\n",
      "\n",
      "El intercepto del modelo es : 0.0\n"
     ]
    }
   ],
   "source": [
    "# Estadísticos del modelo\n",
    "\n",
    "# imprimamos la lista de coeficientes\n",
    "print(\"La lista de pendientes: \", x_matriz.columns)\n",
    "print('\\n')\n",
    "print(\"El valor de los coficientes de las  pendientes: \", modelo_2.coef_)\n",
    "print('\\n')\n",
    "# imprimamos el intercepto del modelo\n",
    "print(\"El intercepto del modelo es :\", modelo_2.intercept_)"
   ]
  },
  {
   "cell_type": "code",
   "execution_count": 44,
   "metadata": {},
   "outputs": [
    {
     "name": "stdout",
     "output_type": "stream",
     "text": [
      "La cantidad de predicciones realizadas son:  167\n",
      "\n",
      "\n",
      "Las predicciones son:  [23.46 23.27  6.38 28.16 29.16 21.59 19.62 26.24 19.73 22.96 27.06 22.88\n",
      " 20.   16.33 20.19 19.74 20.78 27.44 14.47 25.86 21.12 42.6  36.88 21.54\n",
      " 19.8  22.43 18.98 21.89 18.12 22.67 11.31 14.94 30.93 21.26 36.03 35.87\n",
      " 35.77 20.64 32.43 16.65 15.66 34.6  21.04  2.91 24.9  -6.21 22.01 28.34\n",
      " 18.85 20.12 30.35 24.92 16.68 17.73 24.46 19.24 23.03 41.92 10.26 22.09\n",
      "  9.41 34.01 19.65 27.3  14.63 41.71 29.15 14.74 20.83 17.76 22.09 16.21\n",
      " 27.21 11.6  22.36 26.04 32.08 20.13 31.06 33.89 37.16 36.5  23.61 24.84\n",
      " 32.36 17.86 16.16 27.87 30.05 14.12 28.87 29.88 12.29 34.3  39.09 24.\n",
      " 21.83 26.   19.81 31.66 15.5  30.75 19.42 19.78 17.55 32.12 29.39 16.97\n",
      " 27.19 29.79 30.8  39.77 22.71 25.78 22.95 20.93 26.69 14.34 44.3  14.36\n",
      " 20.63  6.64 15.01 17.1  20.6  24.31 25.45 14.07 21.46 25.13 25.13 19.74\n",
      " 20.59 21.33 13.65 21.34 17.34 29.74 21.25 28.81 21.5  26.93 20.16 26.21\n",
      " 25.65 18.51 26.85 14.96 21.17 11.58 32.32 24.69 35.36 30.72 26.96 19.19\n",
      " 29.57 21.34 26.35 21.85 14.91 18.33 23.55 20.   21.43 16.79 28.81]\n"
     ]
    }
   ],
   "source": [
    "# Predicciones del modelo\n",
    "modelo_2_yhat = modelo_2.predict(x_test)\n",
    "print(\"La cantidad de predicciones realizadas son: \", len(modelo_2_yhat))\n",
    "print('\\n')\n",
    "print(\"Las predicciones son: \", modelo_2_yhat.round(2))"
   ]
  },
  {
   "cell_type": "markdown",
   "metadata": {},
   "source": [
    "### Desafío 4: Obtención de métricas\n",
    "* Ahora generemos una función llamada report_scores que ingrese como argumentos el vector de datos predichos y el vector de datos por validar.\n",
    "\n",
    "* La función debe imprimir las métricas del Error Cuadrático Promedio y R2. \n",
    "\n",
    "* Reporte las métricas para ambos modelos. En base a ello, seleccione el mejor modelo."
   ]
  },
  {
   "cell_type": "code",
   "execution_count": 45,
   "metadata": {},
   "outputs": [],
   "source": [
    "# Función para generar reportes\n",
    "def report_scores(datos_predichos, por_validar):\n",
    "    \"\"\"\n",
    "    Definición: Función que genere reportes de un modelo sobre un conjunto de datos predichos y de datos por validar\n",
    "    Input: 2 vectores que contienen los datos predichos y los datos por validar\n",
    "    Outpout: la función imprime el Error Cuadrático Promedio y R2.\n",
    "    \"\"\"\n",
    "    mse = mean_squared_error(datos_predichos, por_validar)\n",
    "    r2 = r2_score(datos_predichos, por_validar)\n",
    "    print(\"Error Cuadrático Medio:\",mse.round(3),\"\\n\",\"R2:\",r2.round(3))"
   ]
  },
  {
   "cell_type": "code",
   "execution_count": 46,
   "metadata": {},
   "outputs": [
    {
     "name": "stdout",
     "output_type": "stream",
     "text": [
      "Error Cuadrático Medio: 27.508 \n",
      " R2: 0.73\n"
     ]
    }
   ],
   "source": [
    "report_scores(y_test, modelo_1_yhat) "
   ]
  },
  {
   "cell_type": "code",
   "execution_count": 47,
   "metadata": {},
   "outputs": [
    {
     "name": "stdout",
     "output_type": "stream",
     "text": [
      "Error Cuadrático Medio: 28.748 \n",
      " R2: 0.718\n"
     ]
    }
   ],
   "source": [
    "report_scores(y_test, modelo_2_yhat)"
   ]
  },
  {
   "cell_type": "markdown",
   "metadata": {},
   "source": [
    "- Como observamos el r2 de los modelos es similar y el error cuadrático medio también, se podría afirmar que el primer modelo que incluye intercepto y normaliza las variables es minimante mejor que el segundo, pero talvez la diferencia al ser tan escaza no sea estadísticamente significativa"
   ]
  },
  {
   "cell_type": "markdown",
   "metadata": {},
   "source": [
    "### Desafío 5: Refactorización del modelo\n",
    "* Genere una función llamada fetch_features que ingrese como argumentos la base de datos (df) y el nombre del vector objetivo. El nombre del vector debe ser medv por defecto\n",
    "* La función debe retornar una lista con las correlaciones entre cada atributo y el vector objetivo y su nombre.\n",
    "* Reporte brevemente cuales los 6 atributos con una mayor correlación con medv"
   ]
  },
  {
   "cell_type": "code",
   "execution_count": 54,
   "metadata": {},
   "outputs": [],
   "source": [
    "# Función para obtener las correlaciones de Pearson del vector en comparación al resto del dataframe\n",
    "def fetch_features(dataframe, vector_objetivo='medv'):\n",
    "    \"\"\"\n",
    "    Definición:Función para obtener las correlaciones de Pearson del vector en comparación al resto del dataframe\n",
    "    Input:dataframe de origen y vector_objetivo='medv', para este caso por defecto es el valor mediano de las propiedades\n",
    "    Outpout: retorna un dataframe con el valor de correlación de pearson y la correlación absoluta, ordenadas de manera descendente\n",
    "    \"\"\"\n",
    "    columns = dataframe.columns\n",
    "    attr_name = []\n",
    "    pearson_r = []\n",
    "    abs_pearson_r = []\n",
    "    for col in columns:\n",
    "        if col != vector_objetivo:\n",
    "            attr_name.append(col)\n",
    "            pearson_r.append(dataframe[col].corr(dataframe[vector_objetivo]))\n",
    "            abs_pearson_r.append(abs(dataframe[col].corr(dataframe[vector_objetivo])))\n",
    "            features = pd.DataFrame({'attribute':attr_name, 'corr':pearson_r,'abs_corr':abs_pearson_r})\n",
    "            features = features.set_index('attribute')\n",
    "    return  features.sort_values(by=['abs_corr'], ascending=False) "
   ]
  },
  {
   "cell_type": "code",
   "execution_count": 55,
   "metadata": {},
   "outputs": [
    {
     "data": {
      "text/html": [
       "<div>\n",
       "<style scoped>\n",
       "    .dataframe tbody tr th:only-of-type {\n",
       "        vertical-align: middle;\n",
       "    }\n",
       "\n",
       "    .dataframe tbody tr th {\n",
       "        vertical-align: top;\n",
       "    }\n",
       "\n",
       "    .dataframe thead th {\n",
       "        text-align: right;\n",
       "    }\n",
       "</style>\n",
       "<table border=\"1\" class=\"dataframe\">\n",
       "  <thead>\n",
       "    <tr style=\"text-align: right;\">\n",
       "      <th></th>\n",
       "      <th>corr</th>\n",
       "      <th>abs_corr</th>\n",
       "    </tr>\n",
       "    <tr>\n",
       "      <th>attribute</th>\n",
       "      <th></th>\n",
       "      <th></th>\n",
       "    </tr>\n",
       "  </thead>\n",
       "  <tbody>\n",
       "    <tr>\n",
       "      <th>lstat</th>\n",
       "      <td>-0.737663</td>\n",
       "      <td>0.737663</td>\n",
       "    </tr>\n",
       "    <tr>\n",
       "      <th>rm</th>\n",
       "      <td>0.695360</td>\n",
       "      <td>0.695360</td>\n",
       "    </tr>\n",
       "    <tr>\n",
       "      <th>ptratio</th>\n",
       "      <td>-0.507787</td>\n",
       "      <td>0.507787</td>\n",
       "    </tr>\n",
       "    <tr>\n",
       "      <th>indus</th>\n",
       "      <td>-0.483725</td>\n",
       "      <td>0.483725</td>\n",
       "    </tr>\n",
       "    <tr>\n",
       "      <th>tax</th>\n",
       "      <td>-0.468536</td>\n",
       "      <td>0.468536</td>\n",
       "    </tr>\n",
       "    <tr>\n",
       "      <th>nox</th>\n",
       "      <td>-0.427321</td>\n",
       "      <td>0.427321</td>\n",
       "    </tr>\n",
       "    <tr>\n",
       "      <th>crim</th>\n",
       "      <td>-0.388305</td>\n",
       "      <td>0.388305</td>\n",
       "    </tr>\n",
       "    <tr>\n",
       "      <th>rad</th>\n",
       "      <td>-0.381626</td>\n",
       "      <td>0.381626</td>\n",
       "    </tr>\n",
       "    <tr>\n",
       "      <th>age</th>\n",
       "      <td>-0.376955</td>\n",
       "      <td>0.376955</td>\n",
       "    </tr>\n",
       "    <tr>\n",
       "      <th>zn</th>\n",
       "      <td>0.360445</td>\n",
       "      <td>0.360445</td>\n",
       "    </tr>\n",
       "    <tr>\n",
       "      <th>black</th>\n",
       "      <td>0.333461</td>\n",
       "      <td>0.333461</td>\n",
       "    </tr>\n",
       "    <tr>\n",
       "      <th>dis</th>\n",
       "      <td>0.249929</td>\n",
       "      <td>0.249929</td>\n",
       "    </tr>\n",
       "    <tr>\n",
       "      <th>chas</th>\n",
       "      <td>0.175260</td>\n",
       "      <td>0.175260</td>\n",
       "    </tr>\n",
       "  </tbody>\n",
       "</table>\n",
       "</div>"
      ],
      "text/plain": [
       "               corr  abs_corr\n",
       "attribute                    \n",
       "lstat     -0.737663  0.737663\n",
       "rm         0.695360  0.695360\n",
       "ptratio   -0.507787  0.507787\n",
       "indus     -0.483725  0.483725\n",
       "tax       -0.468536  0.468536\n",
       "nox       -0.427321  0.427321\n",
       "crim      -0.388305  0.388305\n",
       "rad       -0.381626  0.381626\n",
       "age       -0.376955  0.376955\n",
       "zn         0.360445  0.360445\n",
       "black      0.333461  0.333461\n",
       "dis        0.249929  0.249929\n",
       "chas       0.175260  0.175260"
      ]
     },
     "execution_count": 55,
     "metadata": {},
     "output_type": "execute_result"
    }
   ],
   "source": [
    "fetch_features(df)"
   ]
  },
  {
   "cell_type": "markdown",
   "metadata": {},
   "source": [
    "*Los 6 atributos más significativos son 'nox' con una tendencia negativa, 'tax' también con tendencia negativa, 'indus, 'ptratio' e 'istat' también con tendencias negativas, y rm con una tendencia positiva en la regresión de 'medv' "
   ]
  },
  {
   "cell_type": "markdown",
   "metadata": {},
   "source": [
    "### Desafío 6: Refactorización del modelo predictivo\n",
    "* Genere otros conjuntos de entrenamiento y validación en base a una matriz con los 6 atributos identificados y el vector objetivo.\n",
    "* Entrene un modelo en base al mejor desempeño.\n",
    "* Reporte las métricas para el nuevo modelo."
   ]
  },
  {
   "cell_type": "code",
   "execution_count": 57,
   "metadata": {},
   "outputs": [],
   "source": [
    "y_vec_2 = df.loc[:, 'medv']\n",
    "x_mat_2 = df.loc[:, ['lstat', 'rm', 'ptratio', 'indus', 'tax', 'nox']]"
   ]
  },
  {
   "cell_type": "code",
   "execution_count": 58,
   "metadata": {},
   "outputs": [],
   "source": [
    "x_train_2, x_test_2, y_train_2, y_test_2 = train_test_split(x_mat_2, y_vec_2, test_size=.33, random_state=18231)"
   ]
  },
  {
   "cell_type": "code",
   "execution_count": 59,
   "metadata": {},
   "outputs": [
    {
     "data": {
      "text/plain": [
       "LinearRegression(copy_X=True, fit_intercept=True, n_jobs=None, normalize=True)"
      ]
     },
     "execution_count": 59,
     "metadata": {},
     "output_type": "execute_result"
    }
   ],
   "source": [
    "modelo_3 = linear_model.LinearRegression(fit_intercept=True, normalize=True)\n",
    "modelo_3.fit(x_train_2, y_train_2)"
   ]
  },
  {
   "cell_type": "code",
   "execution_count": 60,
   "metadata": {},
   "outputs": [
    {
     "name": "stdout",
     "output_type": "stream",
     "text": [
      "La lista de pendientes:  Index(['lstat', 'rm', 'ptratio', 'indus', 'tax', 'nox'], dtype='object')\n",
      "\n",
      "\n",
      "El valor de los coficientes de las  pendientes:  [-5.48193020e-01  3.92796727e+00 -8.69237421e-01  7.81404441e-02\n",
      " -2.04501560e-03 -5.12809675e+00]\n",
      "\n",
      "\n",
      "El intercepto del modelo es : 23.530900520734058\n"
     ]
    }
   ],
   "source": [
    "# Estadísticos del modelo\n",
    "\n",
    "# imprimamos la lista de coeficientes\n",
    "print(\"La lista de pendientes: \", x_mat_2.columns)\n",
    "print('\\n')\n",
    "print(\"El valor de los coficientes de las  pendientes: \", modelo_3.coef_)\n",
    "print('\\n')\n",
    "# imprimamos el intercepto del modelo\n",
    "print(\"El intercepto del modelo es :\", modelo_3.intercept_)"
   ]
  },
  {
   "cell_type": "code",
   "execution_count": 62,
   "metadata": {
    "scrolled": true
   },
   "outputs": [
    {
     "name": "stdout",
     "output_type": "stream",
     "text": [
      "La cantidad de predicciones realizadas son:  167\n",
      "\n",
      "\n",
      "Las predicciones son:  [23.95 25.34  3.57 27.49 27.44 20.96 18.84 25.93 21.   20.84 30.39 22.18\n",
      " 19.15 16.39 16.84 19.02 25.01 26.48 15.83 23.31 20.16 38.35 35.06 18.85\n",
      " 20.22 17.63 19.94 24.34 18.76 22.89 13.32 15.04 31.55 18.48 33.72 34.02\n",
      " 30.43 19.95 30.45 18.54 14.86 32.55 21.37 14.64 29.55 -0.05 21.02 27.65\n",
      " 21.36 23.94 33.11 25.02 19.57 20.04 25.38 18.38 27.24 38.73  8.14 19.79\n",
      " 20.03 31.72 15.96 27.8  12.18 38.43 28.02 13.51 17.37 15.09 20.05 17.5\n",
      " 27.88 10.71 21.18 24.31 34.15 23.39 33.12 31.3  37.95 34.24 21.98 25.18\n",
      " 32.23 19.59 14.02 26.51 29.35 10.65 31.43 26.99 14.08 35.   37.06 24.97\n",
      " 20.07 26.25 21.67 31.37 17.71 33.15 21.91 22.13 19.12 27.61 31.72 21.94\n",
      " 26.95 30.78 29.95 39.43 20.46 25.67 20.81 19.29 25.97 12.96 40.07 11.24\n",
      " 22.94  2.81 17.25 14.12 23.47 22.31 27.82 13.45 19.54 24.69 25.23 19.49\n",
      " 20.8  26.94 17.36 24.97 22.4  29.35 24.92 30.14 19.63 27.75 19.14 28.94\n",
      " 27.72 17.4  29.89 11.79 20.96 15.48 31.   28.66 31.71 28.13 23.94 19.79\n",
      " 27.24 24.41 30.67 19.51 15.07 16.39 23.6  17.38 19.69 16.68 27.67]\n"
     ]
    }
   ],
   "source": [
    "# Predicciones del modelo\n",
    "modelo_3_yhat = modelo_3.predict(x_test_2)\n",
    "print(\"La cantidad de predicciones realizadas son: \", len(modelo_3_yhat))\n",
    "print('\\n')\n",
    "print(\"Las predicciones son: \", modelo_3_yhat.round(2))"
   ]
  },
  {
   "cell_type": "code",
   "execution_count": 63,
   "metadata": {},
   "outputs": [
    {
     "name": "stdout",
     "output_type": "stream",
     "text": [
      "Error Cuadrático Medio: 32.768 \n",
      " R2: 0.679\n"
     ]
    }
   ],
   "source": [
    "report_scores(y_test_2, modelo_3_yhat)"
   ]
  },
  {
   "cell_type": "code",
   "execution_count": 67,
   "metadata": {},
   "outputs": [
    {
     "data": {
      "image/png": "[encoded data removed]",
      "text/plain": [
       "<Figure size 432x288 with 2 Axes>"
      ]
     },
     "metadata": {
      "needs_background": "light"
     },
     "output_type": "display_data"
    }
   ],
   "source": [
    "#  Comparación gráfica del modelo original con todos los atributos y el modelo refactorizado\n",
    "\n",
    "m2_mse = mean_squared_error(y_test_2, modelo_3_yhat).round(0)\n",
    "m2_r2 = r2_score(y_test_2, modelo_3_yhat).round(2)\n",
    "m1_mse= mean_squared_error(y_test, modelo_1_yhat)\n",
    "m1_r2= r2_score(y_test, modelo_1_yhat)\n",
    "plt.subplot(2,1,1)\n",
    "plt.barh(['Modelo 1\\nTodos los Atributos', 'Modelo 2\\nEd + Male + Height'], [m1_mse, m2_mse])\n",
    "plt.title(\"Promedio Error Cuadrático\")\n",
    "plt.subplot(2,1, 2)\n",
    "plt.barh(['Modelo 1\\nTodos los Atributos', 'Modelo 2\\nEd + Male + Height'], [m1_r2, m2_r2])\n",
    "plt.title(\"R cuadrado\");\n",
    "plt.tight_layout()\n",
    "\n"
   ]
  },
  {
   "cell_type": "markdown",
   "metadata": {},
   "source": [
    "- Se puede apreciar que el modelo presenta un error cuádratico medio un poco mayor y un r2 menor que el modelo anterior que combinaba todos los atributos, pero al respecto se puede señalar que ha disminuído la complejidad, de 13 a 6 variables predictoras"
   ]
  },
  {
   "cell_type": "markdown",
   "metadata": {},
   "source": [
    "### Desafío 7: Predicción de casos\n",
    "A continuación se generaron dos arrays que representan el peor escenario posible\n",
    "( worst_neighbor ) y el mejor escenario posible ( best_neighbor ).\n",
    "\n",
    "Ingrese los arrays en el modelo entrenado y reporte cuál sería el valor esperado dada las\n",
    "condiciones"
   ]
  },
  {
   "cell_type": "markdown",
   "metadata": {},
   "source": [
    "worst_neighbor = np.array([37.9, 12.6, 3.5, 27.7, 187, 0.87]).reshape(1, -1)\n",
    "\n",
    "\n",
    "best_neighbor = np.array([1.73, 22, 8.7, 0.46, 711, 0.38]).reshape(1, -1)\n",
    "\n",
    "\n",
    "Los valores númericos representan los siguientes atributos ['lstat', 'ptratio', 'rm', 'indus', 'tax', 'nox'].\n"
   ]
  },
  {
   "cell_type": "code",
   "execution_count": 73,
   "metadata": {},
   "outputs": [
    {
     "name": "stdout",
     "output_type": "stream",
     "text": [
      "El valor predicho para el valor de las propiedades del peor vecindario es:  2.871\n"
     ]
    }
   ],
   "source": [
    "# Peor vecindario\n",
    "worst_neighbor = modelo_3.predict(np.array([37.9, 3.5, 12.6, 27.7, 187, 0.87]).reshape(1, -1))\n",
    "print( 'El valor predicho para el valor de las propiedades del peor vecindario es: ',worst_neighbor[0].round(3))"
   ]
  },
  {
   "cell_type": "code",
   "execution_count": 74,
   "metadata": {},
   "outputs": [
    {
     "name": "stdout",
     "output_type": "stream",
     "text": [
      "El valor predicho para el valor de las propiedades del mejor vecindario es:  34.266\n"
     ]
    }
   ],
   "source": [
    "# Mejor vecindario\n",
    "best_neighbor= modelo_3.predict(np.array([1.73, 8.7, 22, 0.46, 711, 0.38]).reshape(1, -1))\n",
    "print( 'El valor predicho para el valor de las propiedades del mejor vecindario es: ',best_neighbor[0].round(3))"
   ]
  },
  {
   "cell_type": "code",
   "execution_count": null,
   "metadata": {},
   "outputs": [],
   "source": []
  }
 ],
 "metadata": {
  "hide_input": false,
  "kernelspec": {
   "display_name": "Python 3",
   "language": "python",
   "name": "python3"
  },
  "language_info": {
   "codemirror_mode": {
    "name": "ipython",
    "version": 3
   },
   "file_extension": ".py",
   "mimetype": "text/x-python",
   "name": "python",
   "nbconvert_exporter": "python",
   "pygments_lexer": "ipython3",
   "version": "3.7.3"
  }
 },
 "nbformat": 4,
 "nbformat_minor": 2
}

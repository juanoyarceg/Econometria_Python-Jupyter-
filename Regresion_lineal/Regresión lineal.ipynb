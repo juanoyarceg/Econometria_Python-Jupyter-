{
 "cells": [
  {
   "cell_type": "markdown",
   "metadata": {},
   "source": [
    "## Desafío - Regresión desde la econometría\n",
    "\n",
    "* Para poder realizar este desafío debes haber revisado la lectura y videos correspondiente a la unidad.\n",
    "* Crea una carpeta de trabajo y guarda todos los archivos correspondientes (notebook y csv).\n",
    "* Una vez terminado el desafío, comprime la carpeta y sube el .zip\n",
    "\n",
    "### Contexto\n",
    "\n",
    "Nombre: Juan Oyarce G.\n",
    "\n",
    "En este desafío trabajaremos con un registro de clientes de un banco e información sobre su salud\n",
    "financiera. La base contenida en el csv Credit contiene las siguientes variables:\n",
    "\n",
    "* Income : Ingreso anual disponible en miles de dólares.\n",
    "* Limit : Límite del crédito.\n",
    "* Rating : Ranking del crédito.\n",
    "* Cards : Cantidad de tarjetas de credito.\n",
    "* Age : Edad del usuario.\n",
    "* Education : Años de educación del usuario.\n",
    "* Gender : ¿Hombre o mujer?\n",
    "* Student : ¿Es estudiante?\n",
    "* Married : ¿Está casado?\n",
    "* Ethnicity : Etnicidad del usuario (Caucásico, Afroamericano, Asiático)\n",
    "* Balance : Promedio de deuda en tarjeta de crédito de usuario.\n",
    "\n",
    "Para efectos prácticos del desafío, nos interesa saber sobre los determinantes de la variación en el\n",
    "promedio de deuda en tarjeta de crédito.\n",
    "\n",
    "A lo largo del desafío generaremos modelos econométricos para inspeccionar los efectos de\n",
    "distintos atributos\n"
   ]
  },
  {
   "cell_type": "markdown",
   "metadata": {},
   "source": [
    "### Desafío 1: Prepare el ambiente de trabajo\n",
    "\n",
    "* Importe las librerías básicas para el análisis de datos.\n",
    "* Incluya los import base de statsmodels .\n",
    "* Importe la base de datos Credit.csv y elimine la columna Unnamed: 0 .\n",
    "* Siguiendo las buenas prácticas, genere variables binarias para capturar el efecto del grupo minoritario en cada variable. Para el caso de Ethnicity, genere binarias para AfricanAmerican y Asian.\n",
    "    * tip: Utilice value_counts() para revisar la cantidad de casos en las variables categóricas."
   ]
  },
  {
   "cell_type": "code",
   "execution_count": 3,
   "metadata": {},
   "outputs": [],
   "source": [
    "# importación de librerías\n",
    "import pandas as pd\n",
    "import numpy as np\n",
    "import matplotlib.pyplot as plt\n",
    "import seaborn as sns\n",
    "from scipy import stats\n",
    "import statsmodels.api as sm \n",
    "import statsmodels.formula.api as smf "
   ]
  },
  {
   "cell_type": "code",
   "execution_count": 13,
   "metadata": {},
   "outputs": [
    {
     "data": {
      "text/html": [
       "<div>\n",
       "<style scoped>\n",
       "    .dataframe tbody tr th:only-of-type {\n",
       "        vertical-align: middle;\n",
       "    }\n",
       "\n",
       "    .dataframe tbody tr th {\n",
       "        vertical-align: top;\n",
       "    }\n",
       "\n",
       "    .dataframe thead th {\n",
       "        text-align: right;\n",
       "    }\n",
       "</style>\n",
       "<table border=\"1\" class=\"dataframe\">\n",
       "  <thead>\n",
       "    <tr style=\"text-align: right;\">\n",
       "      <th></th>\n",
       "      <th>Income</th>\n",
       "      <th>Limit</th>\n",
       "      <th>Rating</th>\n",
       "      <th>Cards</th>\n",
       "      <th>Age</th>\n",
       "      <th>Education</th>\n",
       "      <th>Gender</th>\n",
       "      <th>Student</th>\n",
       "      <th>Married</th>\n",
       "      <th>Ethnicity</th>\n",
       "      <th>Balance</th>\n",
       "    </tr>\n",
       "  </thead>\n",
       "  <tbody>\n",
       "    <tr>\n",
       "      <th>0</th>\n",
       "      <td>14.891</td>\n",
       "      <td>3606</td>\n",
       "      <td>283</td>\n",
       "      <td>2</td>\n",
       "      <td>34</td>\n",
       "      <td>11</td>\n",
       "      <td>Male</td>\n",
       "      <td>No</td>\n",
       "      <td>Yes</td>\n",
       "      <td>Caucasian</td>\n",
       "      <td>333</td>\n",
       "    </tr>\n",
       "    <tr>\n",
       "      <th>1</th>\n",
       "      <td>106.025</td>\n",
       "      <td>6645</td>\n",
       "      <td>483</td>\n",
       "      <td>3</td>\n",
       "      <td>82</td>\n",
       "      <td>15</td>\n",
       "      <td>Female</td>\n",
       "      <td>Yes</td>\n",
       "      <td>Yes</td>\n",
       "      <td>Asian</td>\n",
       "      <td>903</td>\n",
       "    </tr>\n",
       "    <tr>\n",
       "      <th>2</th>\n",
       "      <td>104.593</td>\n",
       "      <td>7075</td>\n",
       "      <td>514</td>\n",
       "      <td>4</td>\n",
       "      <td>71</td>\n",
       "      <td>11</td>\n",
       "      <td>Male</td>\n",
       "      <td>No</td>\n",
       "      <td>No</td>\n",
       "      <td>Asian</td>\n",
       "      <td>580</td>\n",
       "    </tr>\n",
       "    <tr>\n",
       "      <th>3</th>\n",
       "      <td>148.924</td>\n",
       "      <td>9504</td>\n",
       "      <td>681</td>\n",
       "      <td>3</td>\n",
       "      <td>36</td>\n",
       "      <td>11</td>\n",
       "      <td>Female</td>\n",
       "      <td>No</td>\n",
       "      <td>No</td>\n",
       "      <td>Asian</td>\n",
       "      <td>964</td>\n",
       "    </tr>\n",
       "    <tr>\n",
       "      <th>4</th>\n",
       "      <td>55.882</td>\n",
       "      <td>4897</td>\n",
       "      <td>357</td>\n",
       "      <td>2</td>\n",
       "      <td>68</td>\n",
       "      <td>16</td>\n",
       "      <td>Male</td>\n",
       "      <td>No</td>\n",
       "      <td>Yes</td>\n",
       "      <td>Caucasian</td>\n",
       "      <td>331</td>\n",
       "    </tr>\n",
       "  </tbody>\n",
       "</table>\n",
       "</div>"
      ],
      "text/plain": [
       "    Income  Limit  Rating  Cards  Age  Education  Gender Student Married  \\\n",
       "0   14.891   3606     283      2   34         11    Male      No     Yes   \n",
       "1  106.025   6645     483      3   82         15  Female     Yes     Yes   \n",
       "2  104.593   7075     514      4   71         11    Male      No      No   \n",
       "3  148.924   9504     681      3   36         11  Female      No      No   \n",
       "4   55.882   4897     357      2   68         16    Male      No     Yes   \n",
       "\n",
       "   Ethnicity  Balance  \n",
       "0  Caucasian      333  \n",
       "1      Asian      903  \n",
       "2      Asian      580  \n",
       "3      Asian      964  \n",
       "4  Caucasian      331  "
      ]
     },
     "execution_count": 13,
     "metadata": {},
     "output_type": "execute_result"
    }
   ],
   "source": [
    "df = pd.read_csv('Credit.csv').drop('Unnamed: 0', axis=1) #eliminamos la primera columna del dataset\n",
    "df.head(5)"
   ]
  },
  {
   "cell_type": "markdown",
   "metadata": {},
   "source": [
    "* Conteo con value counts"
   ]
  },
  {
   "cell_type": "code",
   "execution_count": 14,
   "metadata": {},
   "outputs": [
    {
     "data": {
      "text/plain": [
       "Caucasian           0.4975\n",
       "Asian               0.2550\n",
       "African American    0.2475\n",
       "Name: Ethnicity, dtype: float64"
      ]
     },
     "execution_count": 14,
     "metadata": {},
     "output_type": "execute_result"
    }
   ],
   "source": [
    "df['Ethnicity'].value_counts('%')"
   ]
  },
  {
   "cell_type": "code",
   "execution_count": 6,
   "metadata": {
    "scrolled": true
   },
   "outputs": [
    {
     "data": {
      "text/plain": [
       "Female    0.5175\n",
       " Male     0.4825\n",
       "Name: Gender, dtype: float64"
      ]
     },
     "execution_count": 6,
     "metadata": {},
     "output_type": "execute_result"
    }
   ],
   "source": [
    "df['Gender'].value_counts('%')"
   ]
  },
  {
   "cell_type": "code",
   "execution_count": 7,
   "metadata": {},
   "outputs": [
    {
     "data": {
      "text/plain": [
       "No     0.9\n",
       "Yes    0.1\n",
       "Name: Student, dtype: float64"
      ]
     },
     "execution_count": 7,
     "metadata": {},
     "output_type": "execute_result"
    }
   ],
   "source": [
    "df['Student'].value_counts('%')"
   ]
  },
  {
   "cell_type": "code",
   "execution_count": 8,
   "metadata": {},
   "outputs": [
    {
     "data": {
      "text/plain": [
       "Yes    0.6125\n",
       "No     0.3875\n",
       "Name: Married, dtype: float64"
      ]
     },
     "execution_count": 8,
     "metadata": {},
     "output_type": "execute_result"
    }
   ],
   "source": [
    "df['Married'].value_counts('%')"
   ]
  },
  {
   "cell_type": "markdown",
   "metadata": {},
   "source": [
    " \n",
    "Binarizamos las variables con el método where de Numpy; también se puede hacer mediante Pandas get_dummmies o con una f(x) map  \n",
    "Gender_dummies=pd.get_dummies(df.Gender,prefix='Gender', drop_first= True) # generación de variables dummies\n",
    "df=pd.concat([df,Gender_dummies], axis=1) # las agregamos al Dataset\n",
    "df.drop('Gender', axis=1, inplace=True) # Eliminamos la columna original\n",
    "df['Gender']=df.Gender.map({'Male':0,'Female':1}) # uso de Map\n",
    " "
   ]
  },
  {
   "cell_type": "code",
   "execution_count": 15,
   "metadata": {},
   "outputs": [],
   "source": [
    "\n",
    "\n",
    "df['Asian'] = np.where(df['Ethnicity'] == 'Asian', 1, 0)\n",
    "df['African_American'] = np.where(df['Ethnicity'] == 'African American', 1, 0)\n",
    "df['Student'] = np.where(df['Student'] == 'Yes', 1, 0)\n",
    "df['Single'] = np.where(df['Married'] == 'No', 1, 0)\n",
    "df['Male'] = np.where(df['Gender'] == ' Male', 1, 0)"
   ]
  },
  {
   "cell_type": "code",
   "execution_count": 16,
   "metadata": {},
   "outputs": [
    {
     "data": {
      "text/html": [
       "<div>\n",
       "<style scoped>\n",
       "    .dataframe tbody tr th:only-of-type {\n",
       "        vertical-align: middle;\n",
       "    }\n",
       "\n",
       "    .dataframe tbody tr th {\n",
       "        vertical-align: top;\n",
       "    }\n",
       "\n",
       "    .dataframe thead th {\n",
       "        text-align: right;\n",
       "    }\n",
       "</style>\n",
       "<table border=\"1\" class=\"dataframe\">\n",
       "  <thead>\n",
       "    <tr style=\"text-align: right;\">\n",
       "      <th></th>\n",
       "      <th>Income</th>\n",
       "      <th>Limit</th>\n",
       "      <th>Rating</th>\n",
       "      <th>Cards</th>\n",
       "      <th>Age</th>\n",
       "      <th>Education</th>\n",
       "      <th>Gender</th>\n",
       "      <th>Student</th>\n",
       "      <th>Married</th>\n",
       "      <th>Ethnicity</th>\n",
       "      <th>Balance</th>\n",
       "      <th>Asian</th>\n",
       "      <th>African_American</th>\n",
       "      <th>Single</th>\n",
       "      <th>Male</th>\n",
       "    </tr>\n",
       "  </thead>\n",
       "  <tbody>\n",
       "    <tr>\n",
       "      <th>0</th>\n",
       "      <td>14.891</td>\n",
       "      <td>3606</td>\n",
       "      <td>283</td>\n",
       "      <td>2</td>\n",
       "      <td>34</td>\n",
       "      <td>11</td>\n",
       "      <td>Male</td>\n",
       "      <td>0</td>\n",
       "      <td>Yes</td>\n",
       "      <td>Caucasian</td>\n",
       "      <td>333</td>\n",
       "      <td>0</td>\n",
       "      <td>0</td>\n",
       "      <td>0</td>\n",
       "      <td>1</td>\n",
       "    </tr>\n",
       "    <tr>\n",
       "      <th>1</th>\n",
       "      <td>106.025</td>\n",
       "      <td>6645</td>\n",
       "      <td>483</td>\n",
       "      <td>3</td>\n",
       "      <td>82</td>\n",
       "      <td>15</td>\n",
       "      <td>Female</td>\n",
       "      <td>1</td>\n",
       "      <td>Yes</td>\n",
       "      <td>Asian</td>\n",
       "      <td>903</td>\n",
       "      <td>1</td>\n",
       "      <td>0</td>\n",
       "      <td>0</td>\n",
       "      <td>0</td>\n",
       "    </tr>\n",
       "    <tr>\n",
       "      <th>2</th>\n",
       "      <td>104.593</td>\n",
       "      <td>7075</td>\n",
       "      <td>514</td>\n",
       "      <td>4</td>\n",
       "      <td>71</td>\n",
       "      <td>11</td>\n",
       "      <td>Male</td>\n",
       "      <td>0</td>\n",
       "      <td>No</td>\n",
       "      <td>Asian</td>\n",
       "      <td>580</td>\n",
       "      <td>1</td>\n",
       "      <td>0</td>\n",
       "      <td>1</td>\n",
       "      <td>1</td>\n",
       "    </tr>\n",
       "    <tr>\n",
       "      <th>3</th>\n",
       "      <td>148.924</td>\n",
       "      <td>9504</td>\n",
       "      <td>681</td>\n",
       "      <td>3</td>\n",
       "      <td>36</td>\n",
       "      <td>11</td>\n",
       "      <td>Female</td>\n",
       "      <td>0</td>\n",
       "      <td>No</td>\n",
       "      <td>Asian</td>\n",
       "      <td>964</td>\n",
       "      <td>1</td>\n",
       "      <td>0</td>\n",
       "      <td>1</td>\n",
       "      <td>0</td>\n",
       "    </tr>\n",
       "    <tr>\n",
       "      <th>4</th>\n",
       "      <td>55.882</td>\n",
       "      <td>4897</td>\n",
       "      <td>357</td>\n",
       "      <td>2</td>\n",
       "      <td>68</td>\n",
       "      <td>16</td>\n",
       "      <td>Male</td>\n",
       "      <td>0</td>\n",
       "      <td>Yes</td>\n",
       "      <td>Caucasian</td>\n",
       "      <td>331</td>\n",
       "      <td>0</td>\n",
       "      <td>0</td>\n",
       "      <td>0</td>\n",
       "      <td>1</td>\n",
       "    </tr>\n",
       "  </tbody>\n",
       "</table>\n",
       "</div>"
      ],
      "text/plain": [
       "    Income  Limit  Rating  Cards  Age  Education  Gender  Student Married  \\\n",
       "0   14.891   3606     283      2   34         11    Male        0     Yes   \n",
       "1  106.025   6645     483      3   82         15  Female        1     Yes   \n",
       "2  104.593   7075     514      4   71         11    Male        0      No   \n",
       "3  148.924   9504     681      3   36         11  Female        0      No   \n",
       "4   55.882   4897     357      2   68         16    Male        0     Yes   \n",
       "\n",
       "   Ethnicity  Balance  Asian  African_American  Single  Male  \n",
       "0  Caucasian      333      0                 0       0     1  \n",
       "1      Asian      903      1                 0       0     0  \n",
       "2      Asian      580      1                 0       1     1  \n",
       "3      Asian      964      1                 0       1     0  \n",
       "4  Caucasian      331      0                 0       0     1  "
      ]
     },
     "execution_count": 16,
     "metadata": {},
     "output_type": "execute_result"
    }
   ],
   "source": [
    "df.head()"
   ]
  },
  {
   "cell_type": "markdown",
   "metadata": {},
   "source": [
    "### Desafío 2: Genere gráficos descriptivos para las variables contínuas\n",
    "\n",
    "* Genere una función llamada plot_hist que genere un histograma de la variable e indique la media y mediana de la misma. Agrege una legenda para indicar qué representa cada línea.\n",
    "* ¿Cuál es el comportamiento de Balance , Income , Cards y Rating ?"
   ]
  },
  {
   "cell_type": "code",
   "execution_count": 23,
   "metadata": {},
   "outputs": [],
   "source": [
    "def plot_hist(dataframe, variable):\n",
    "    \"\"\"\n",
    "    Definición: Esta función genera un histograma y grafica la media y mediana\n",
    "    Input: dataframe: recibe un dataframe, y la variable, es la variable numérica a representar\n",
    "    Outpout: genera un histograma\n",
    "    \n",
    "    \"\"\"\n",
    "    plt.hist(dataframe[variable], alpha=1, color='gray', label=variable)\n",
    "    plt.axvline(dataframe[variable].mean(), lw=3, color='tomato', label='Media')\n",
    "    plt.axvline(dataframe[variable].median(), lw=3, color='green', label='Mediana')\n",
    "    plt.title('Histograma')\n",
    "    plt.legend()\n",
    "    plt.show()"
   ]
  },
  {
   "cell_type": "code",
   "execution_count": 22,
   "metadata": {},
   "outputs": [
    {
     "data": {
      "image/png": "[encoded data removed]",
      "text/plain": [
       "<Figure size 432x288 with 1 Axes>"
      ]
     },
     "metadata": {
      "needs_background": "light"
     },
     "output_type": "display_data"
    }
   ],
   "source": [
    "plot_hist(df, 'Balance')"
   ]
  },
  {
   "cell_type": "markdown",
   "metadata": {},
   "source": [
    "* El comportamiento de la variable Balance está desbalanceada hacia los valores iniciales, luego la distribución va decayendo, las medias y las medianas  se concentran en torno al primer cuartil de la distribución "
   ]
  },
  {
   "cell_type": "code",
   "execution_count": 24,
   "metadata": {},
   "outputs": [
    {
     "data": {
      "image/png": "[encoded data removed]",
      "text/plain": [
       "<Figure size 432x288 with 1 Axes>"
      ]
     },
     "metadata": {
      "needs_background": "light"
     },
     "output_type": "display_data"
    }
   ],
   "source": [
    "plot_hist(df, 'Income')"
   ]
  },
  {
   "cell_type": "markdown",
   "metadata": {},
   "source": [
    "* El comportamiento de la variable Income está desbalanceada hacia los valores iniciales, luego la distribución va decayendo muy abruptamente tras la media, las medias y las medianas  se concentran en torno al primer cuartil de la distribución "
   ]
  },
  {
   "cell_type": "code",
   "execution_count": 25,
   "metadata": {},
   "outputs": [
    {
     "data": {
      "image/png": "[encoded data removed]",
      "text/plain": [
       "<Figure size 432x288 with 1 Axes>"
      ]
     },
     "metadata": {
      "needs_background": "light"
     },
     "output_type": "display_data"
    }
   ],
   "source": [
    "plot_hist(df, 'Cards')"
   ]
  },
  {
   "cell_type": "markdown",
   "metadata": {},
   "source": [
    "* El comportamiento de la variable Cards está desbalanceada hacia los valores iniciales y segmentada en dos grupos , luego la distribución va decayendo muy abruptamente tras la media y se interrumpe, las medias y las medianas  se concentran en torno al primer tercio de la distribución "
   ]
  },
  {
   "cell_type": "code",
   "execution_count": 26,
   "metadata": {},
   "outputs": [
    {
     "data": {
      "image/png": "[encoded data removed]",
      "text/plain": [
       "<Figure size 432x288 with 1 Axes>"
      ]
     },
     "metadata": {
      "needs_background": "light"
     },
     "output_type": "display_data"
    }
   ],
   "source": [
    "plot_hist(df, 'Rating')"
   ]
  },
  {
   "cell_type": "markdown",
   "metadata": {},
   "source": [
    "* El comportamiento de la variable Rating está desbalanceada hacia los valores iniciales, luego la distribución va decayendo muy abruptamente tras la media, las medias y las medianas  se concentran en torno al segundo quintil de la distribución "
   ]
  },
  {
   "cell_type": "markdown",
   "metadata": {},
   "source": [
    "### Desafío 3: Regresión Lineal Simple\n",
    "\n",
    "* A continuación generaremos una serie de modelos simples:\n",
    "\n",
    "\n",
    "$${Balance}={{\\beta }_{0} + {\\beta }_{1} \\cdot {Student} +{\\epsilon}_{i}}$$\n",
    "\n",
    "$${Balance}={{\\beta }_{0} + {\\beta }_{1} \\cdot {Income} +{\\epsilon}_{i}}$$\n",
    "\n",
    "$${Balance}={{\\beta }_{0} + {\\beta }_{1} \\cdot {Rating} +{\\epsilon}_{i}}$$\n",
    "\n",
    "\n",
    "\n",
    "* Utilizando statsmodels , comente brevemente los siguientes puntos:\n",
    "    * ¿Qué variable presenta un mayor poder explicativo de la variabilidad de Balance ?\n",
    "    * ¿Qué podemos decir sobre el comportamiento de Student ?\n",
    "        * ¿Qué pasa si aplicamos una prueba de hipótesis para muestras independientes de Balance entre aquellos que son y no son estudiantes?\n",
    "\n"
   ]
  },
  {
   "cell_type": "code",
   "execution_count": 28,
   "metadata": {},
   "outputs": [
    {
     "data": {
      "text/html": [
       "<table class=\"simpletable\">\n",
       "<caption>OLS Regression Results</caption>\n",
       "<tr>\n",
       "  <th>Dep. Variable:</th>         <td>Balance</td>     <th>  R-squared:         </th> <td>   0.067</td>\n",
       "</tr>\n",
       "<tr>\n",
       "  <th>Model:</th>                   <td>OLS</td>       <th>  Adj. R-squared:    </th> <td>   0.065</td>\n",
       "</tr>\n",
       "<tr>\n",
       "  <th>Method:</th>             <td>Least Squares</td>  <th>  F-statistic:       </th> <td>   28.62</td>\n",
       "</tr>\n",
       "<tr>\n",
       "  <th>Date:</th>             <td>Mon, 22 Jul 2019</td> <th>  Prob (F-statistic):</th> <td>1.49e-07</td>\n",
       "</tr>\n",
       "<tr>\n",
       "  <th>Time:</th>                 <td>00:07:29</td>     <th>  Log-Likelihood:    </th> <td> -3005.5</td>\n",
       "</tr>\n",
       "<tr>\n",
       "  <th>No. Observations:</th>      <td>   400</td>      <th>  AIC:               </th> <td>   6015.</td>\n",
       "</tr>\n",
       "<tr>\n",
       "  <th>Df Residuals:</th>          <td>   398</td>      <th>  BIC:               </th> <td>   6023.</td>\n",
       "</tr>\n",
       "<tr>\n",
       "  <th>Df Model:</th>              <td>     1</td>      <th>                     </th>     <td> </td>   \n",
       "</tr>\n",
       "<tr>\n",
       "  <th>Covariance Type:</th>      <td>nonrobust</td>    <th>                     </th>     <td> </td>   \n",
       "</tr>\n",
       "</table>\n",
       "<table class=\"simpletable\">\n",
       "<tr>\n",
       "      <td></td>         <th>coef</th>     <th>std err</th>      <th>t</th>      <th>P>|t|</th>  <th>[0.025</th>    <th>0.975]</th>  \n",
       "</tr>\n",
       "<tr>\n",
       "  <th>Intercept</th> <td>  480.3694</td> <td>   23.434</td> <td>   20.499</td> <td> 0.000</td> <td>  434.300</td> <td>  526.439</td>\n",
       "</tr>\n",
       "<tr>\n",
       "  <th>Student</th>   <td>  396.4556</td> <td>   74.104</td> <td>    5.350</td> <td> 0.000</td> <td>  250.771</td> <td>  542.140</td>\n",
       "</tr>\n",
       "</table>\n",
       "<table class=\"simpletable\">\n",
       "<tr>\n",
       "  <th>Omnibus:</th>       <td>20.866</td> <th>  Durbin-Watson:     </th> <td>   1.950</td>\n",
       "</tr>\n",
       "<tr>\n",
       "  <th>Prob(Omnibus):</th> <td> 0.000</td> <th>  Jarque-Bera (JB):  </th> <td>  21.920</td>\n",
       "</tr>\n",
       "<tr>\n",
       "  <th>Skew:</th>          <td> 0.544</td> <th>  Prob(JB):          </th> <td>1.74e-05</td>\n",
       "</tr>\n",
       "<tr>\n",
       "  <th>Kurtosis:</th>      <td> 2.637</td> <th>  Cond. No.          </th> <td>    3.37</td>\n",
       "</tr>\n",
       "</table><br/><br/>Warnings:<br/>[1] Standard Errors assume that the covariance matrix of the errors is correctly specified."
      ],
      "text/plain": [
       "<class 'statsmodels.iolib.summary.Summary'>\n",
       "\"\"\"\n",
       "                            OLS Regression Results                            \n",
       "==============================================================================\n",
       "Dep. Variable:                Balance   R-squared:                       0.067\n",
       "Model:                            OLS   Adj. R-squared:                  0.065\n",
       "Method:                 Least Squares   F-statistic:                     28.62\n",
       "Date:                Mon, 22 Jul 2019   Prob (F-statistic):           1.49e-07\n",
       "Time:                        00:07:29   Log-Likelihood:                -3005.5\n",
       "No. Observations:                 400   AIC:                             6015.\n",
       "Df Residuals:                     398   BIC:                             6023.\n",
       "Df Model:                           1                                         \n",
       "Covariance Type:            nonrobust                                         \n",
       "==============================================================================\n",
       "                 coef    std err          t      P>|t|      [0.025      0.975]\n",
       "------------------------------------------------------------------------------\n",
       "Intercept    480.3694     23.434     20.499      0.000     434.300     526.439\n",
       "Student      396.4556     74.104      5.350      0.000     250.771     542.140\n",
       "==============================================================================\n",
       "Omnibus:                       20.866   Durbin-Watson:                   1.950\n",
       "Prob(Omnibus):                  0.000   Jarque-Bera (JB):               21.920\n",
       "Skew:                           0.544   Prob(JB):                     1.74e-05\n",
       "Kurtosis:                       2.637   Cond. No.                         3.37\n",
       "==============================================================================\n",
       "\n",
       "Warnings:\n",
       "[1] Standard Errors assume that the covariance matrix of the errors is correctly specified.\n",
       "\"\"\""
      ]
     },
     "execution_count": 28,
     "metadata": {},
     "output_type": "execute_result"
    }
   ],
   "source": [
    "modelo_Balance_Student = smf.ols('Balance ~ Student', df).fit() # generación del modelo regresión líneal simple\n",
    "modelo_Balance_Student.summary() # sumario del modelo"
   ]
  },
  {
   "cell_type": "markdown",
   "metadata": {},
   "source": [
    "### Interpretación general del modelo\n",
    "\n",
    "\n",
    "* Sobre los estadísticos del modelo se puede afirmar que la regresión emplea el método de mínimos cuadrados ordinarios para estimar los parámetros del modelo, la probabilidad f que es inferior a 0.05 (1.49e-07) nos sugiere que el modelo es estadísticamente significativo con un 95 % de confianza, los valores de r cuadrado  y r cuadrado ajustado (minimiza los efectos de colinealidad entre múltiples variables de un modelo de regresión líneal) son cercanos a 0.065 nos indican una correlación practicamente nula entre las variables.  \n",
    "\n",
    "* El intercepto y la variable independiente de estudiante, son estadísticamente significativas p valor>0.05, pero se encuentran no correlacionadas, los coeficientes de ambas variables muestran una tendencia positiva, pero no resultan ser explicativas debido al valor bajisimo del r cuadrado ajustado (Adj. R-squared:\t0.065), cercano a 0.\n",
    "\n",
    "* Los otros valores dan información acerca del comportamiento de los residuos del modelo, podemos observar por los valores de kurtosis 2.6 se apróximan a una distribución normal, los valores de Durbin-Watson cercanos a 2 sugiere que no hay autocorrelación entre los residuos del modelo."
   ]
  },
  {
   "cell_type": "code",
   "execution_count": 27,
   "metadata": {},
   "outputs": [
    {
     "data": {
      "text/html": [
       "<table class=\"simpletable\">\n",
       "<caption>OLS Regression Results</caption>\n",
       "<tr>\n",
       "  <th>Dep. Variable:</th>         <td>Balance</td>     <th>  R-squared:         </th> <td>   0.215</td>\n",
       "</tr>\n",
       "<tr>\n",
       "  <th>Model:</th>                   <td>OLS</td>       <th>  Adj. R-squared:    </th> <td>   0.213</td>\n",
       "</tr>\n",
       "<tr>\n",
       "  <th>Method:</th>             <td>Least Squares</td>  <th>  F-statistic:       </th> <td>   109.0</td>\n",
       "</tr>\n",
       "<tr>\n",
       "  <th>Date:</th>             <td>Mon, 22 Jul 2019</td> <th>  Prob (F-statistic):</th> <td>1.03e-22</td>\n",
       "</tr>\n",
       "<tr>\n",
       "  <th>Time:</th>                 <td>00:07:25</td>     <th>  Log-Likelihood:    </th> <td> -2970.9</td>\n",
       "</tr>\n",
       "<tr>\n",
       "  <th>No. Observations:</th>      <td>   400</td>      <th>  AIC:               </th> <td>   5946.</td>\n",
       "</tr>\n",
       "<tr>\n",
       "  <th>Df Residuals:</th>          <td>   398</td>      <th>  BIC:               </th> <td>   5954.</td>\n",
       "</tr>\n",
       "<tr>\n",
       "  <th>Df Model:</th>              <td>     1</td>      <th>                     </th>     <td> </td>   \n",
       "</tr>\n",
       "<tr>\n",
       "  <th>Covariance Type:</th>      <td>nonrobust</td>    <th>                     </th>     <td> </td>   \n",
       "</tr>\n",
       "</table>\n",
       "<table class=\"simpletable\">\n",
       "<tr>\n",
       "      <td></td>         <th>coef</th>     <th>std err</th>      <th>t</th>      <th>P>|t|</th>  <th>[0.025</th>    <th>0.975]</th>  \n",
       "</tr>\n",
       "<tr>\n",
       "  <th>Intercept</th> <td>  246.5148</td> <td>   33.199</td> <td>    7.425</td> <td> 0.000</td> <td>  181.247</td> <td>  311.783</td>\n",
       "</tr>\n",
       "<tr>\n",
       "  <th>Income</th>    <td>    6.0484</td> <td>    0.579</td> <td>   10.440</td> <td> 0.000</td> <td>    4.909</td> <td>    7.187</td>\n",
       "</tr>\n",
       "</table>\n",
       "<table class=\"simpletable\">\n",
       "<tr>\n",
       "  <th>Omnibus:</th>       <td>42.505</td> <th>  Durbin-Watson:     </th> <td>   1.951</td>\n",
       "</tr>\n",
       "<tr>\n",
       "  <th>Prob(Omnibus):</th> <td> 0.000</td> <th>  Jarque-Bera (JB):  </th> <td>  20.975</td>\n",
       "</tr>\n",
       "<tr>\n",
       "  <th>Skew:</th>          <td> 0.384</td> <th>  Prob(JB):          </th> <td>2.79e-05</td>\n",
       "</tr>\n",
       "<tr>\n",
       "  <th>Kurtosis:</th>      <td> 2.182</td> <th>  Cond. No.          </th> <td>    93.3</td>\n",
       "</tr>\n",
       "</table><br/><br/>Warnings:<br/>[1] Standard Errors assume that the covariance matrix of the errors is correctly specified."
      ],
      "text/plain": [
       "<class 'statsmodels.iolib.summary.Summary'>\n",
       "\"\"\"\n",
       "                            OLS Regression Results                            \n",
       "==============================================================================\n",
       "Dep. Variable:                Balance   R-squared:                       0.215\n",
       "Model:                            OLS   Adj. R-squared:                  0.213\n",
       "Method:                 Least Squares   F-statistic:                     109.0\n",
       "Date:                Mon, 22 Jul 2019   Prob (F-statistic):           1.03e-22\n",
       "Time:                        00:07:25   Log-Likelihood:                -2970.9\n",
       "No. Observations:                 400   AIC:                             5946.\n",
       "Df Residuals:                     398   BIC:                             5954.\n",
       "Df Model:                           1                                         \n",
       "Covariance Type:            nonrobust                                         \n",
       "==============================================================================\n",
       "                 coef    std err          t      P>|t|      [0.025      0.975]\n",
       "------------------------------------------------------------------------------\n",
       "Intercept    246.5148     33.199      7.425      0.000     181.247     311.783\n",
       "Income         6.0484      0.579     10.440      0.000       4.909       7.187\n",
       "==============================================================================\n",
       "Omnibus:                       42.505   Durbin-Watson:                   1.951\n",
       "Prob(Omnibus):                  0.000   Jarque-Bera (JB):               20.975\n",
       "Skew:                           0.384   Prob(JB):                     2.79e-05\n",
       "Kurtosis:                       2.182   Cond. No.                         93.3\n",
       "==============================================================================\n",
       "\n",
       "Warnings:\n",
       "[1] Standard Errors assume that the covariance matrix of the errors is correctly specified.\n",
       "\"\"\""
      ]
     },
     "execution_count": 27,
     "metadata": {},
     "output_type": "execute_result"
    }
   ],
   "source": [
    "modelo_Balance_Income = smf.ols('Balance ~ Income', df).fit()\n",
    "modelo_Balance_Income.summary()"
   ]
  },
  {
   "cell_type": "code",
   "execution_count": 29,
   "metadata": {},
   "outputs": [
    {
     "data": {
      "text/html": [
       "<table class=\"simpletable\">\n",
       "<caption>OLS Regression Results</caption>\n",
       "<tr>\n",
       "  <th>Dep. Variable:</th>         <td>Balance</td>     <th>  R-squared:         </th> <td>   0.746</td> \n",
       "</tr>\n",
       "<tr>\n",
       "  <th>Model:</th>                   <td>OLS</td>       <th>  Adj. R-squared:    </th> <td>   0.745</td> \n",
       "</tr>\n",
       "<tr>\n",
       "  <th>Method:</th>             <td>Least Squares</td>  <th>  F-statistic:       </th> <td>   1168.</td> \n",
       "</tr>\n",
       "<tr>\n",
       "  <th>Date:</th>             <td>Mon, 22 Jul 2019</td> <th>  Prob (F-statistic):</th> <td>1.90e-120</td>\n",
       "</tr>\n",
       "<tr>\n",
       "  <th>Time:</th>                 <td>00:07:57</td>     <th>  Log-Likelihood:    </th> <td> -2745.4</td> \n",
       "</tr>\n",
       "<tr>\n",
       "  <th>No. Observations:</th>      <td>   400</td>      <th>  AIC:               </th> <td>   5495.</td> \n",
       "</tr>\n",
       "<tr>\n",
       "  <th>Df Residuals:</th>          <td>   398</td>      <th>  BIC:               </th> <td>   5503.</td> \n",
       "</tr>\n",
       "<tr>\n",
       "  <th>Df Model:</th>              <td>     1</td>      <th>                     </th>     <td> </td>    \n",
       "</tr>\n",
       "<tr>\n",
       "  <th>Covariance Type:</th>      <td>nonrobust</td>    <th>                     </th>     <td> </td>    \n",
       "</tr>\n",
       "</table>\n",
       "<table class=\"simpletable\">\n",
       "<tr>\n",
       "      <td></td>         <th>coef</th>     <th>std err</th>      <th>t</th>      <th>P>|t|</th>  <th>[0.025</th>    <th>0.975]</th>  \n",
       "</tr>\n",
       "<tr>\n",
       "  <th>Intercept</th> <td> -390.8463</td> <td>   29.069</td> <td>  -13.446</td> <td> 0.000</td> <td> -447.993</td> <td> -333.699</td>\n",
       "</tr>\n",
       "<tr>\n",
       "  <th>Rating</th>    <td>    2.5662</td> <td>    0.075</td> <td>   34.176</td> <td> 0.000</td> <td>    2.419</td> <td>    2.714</td>\n",
       "</tr>\n",
       "</table>\n",
       "<table class=\"simpletable\">\n",
       "<tr>\n",
       "  <th>Omnibus:</th>       <td>23.223</td> <th>  Durbin-Watson:     </th> <td>   1.966</td>\n",
       "</tr>\n",
       "<tr>\n",
       "  <th>Prob(Omnibus):</th> <td> 0.000</td> <th>  Jarque-Bera (JB):  </th> <td>  38.802</td>\n",
       "</tr>\n",
       "<tr>\n",
       "  <th>Skew:</th>          <td> 0.390</td> <th>  Prob(JB):          </th> <td>3.75e-09</td>\n",
       "</tr>\n",
       "<tr>\n",
       "  <th>Kurtosis:</th>      <td> 4.311</td> <th>  Cond. No.          </th> <td>    970.</td>\n",
       "</tr>\n",
       "</table><br/><br/>Warnings:<br/>[1] Standard Errors assume that the covariance matrix of the errors is correctly specified."
      ],
      "text/plain": [
       "<class 'statsmodels.iolib.summary.Summary'>\n",
       "\"\"\"\n",
       "                            OLS Regression Results                            \n",
       "==============================================================================\n",
       "Dep. Variable:                Balance   R-squared:                       0.746\n",
       "Model:                            OLS   Adj. R-squared:                  0.745\n",
       "Method:                 Least Squares   F-statistic:                     1168.\n",
       "Date:                Mon, 22 Jul 2019   Prob (F-statistic):          1.90e-120\n",
       "Time:                        00:07:57   Log-Likelihood:                -2745.4\n",
       "No. Observations:                 400   AIC:                             5495.\n",
       "Df Residuals:                     398   BIC:                             5503.\n",
       "Df Model:                           1                                         \n",
       "Covariance Type:            nonrobust                                         \n",
       "==============================================================================\n",
       "                 coef    std err          t      P>|t|      [0.025      0.975]\n",
       "------------------------------------------------------------------------------\n",
       "Intercept   -390.8463     29.069    -13.446      0.000    -447.993    -333.699\n",
       "Rating         2.5662      0.075     34.176      0.000       2.419       2.714\n",
       "==============================================================================\n",
       "Omnibus:                       23.223   Durbin-Watson:                   1.966\n",
       "Prob(Omnibus):                  0.000   Jarque-Bera (JB):               38.802\n",
       "Skew:                           0.390   Prob(JB):                     3.75e-09\n",
       "Kurtosis:                       4.311   Cond. No.                         970.\n",
       "==============================================================================\n",
       "\n",
       "Warnings:\n",
       "[1] Standard Errors assume that the covariance matrix of the errors is correctly specified.\n",
       "\"\"\""
      ]
     },
     "execution_count": 29,
     "metadata": {},
     "output_type": "execute_result"
    }
   ],
   "source": [
    "modelo_Balance_Rating = smf.ols('Balance ~ Rating', df).fit()\n",
    "modelo_Balance_Rating.summary()"
   ]
  },
  {
   "cell_type": "markdown",
   "metadata": {},
   "source": [
    "* ¿Qué variable presenta un mayor poder explicativo de la variabilidad de Balance ?\n",
    "\n",
    "\n",
    "-La variable Rating presenta la mejor correlación positiva con r cuadrado ajustado de 0.75, por lo que demuestra que a medida que aumentan los valores de Rating aumentan los valores de Balance\n",
    "\n",
    "\n",
    "* ¿Qué podemos decir sobre el comportamiento de Student ?\n",
    "\n",
    "\n",
    "-La variable Student presenta la peor correlación   con r cuadrado ajustado de 0.06, lo que sugiere que no hay correlación con balance\n",
    "\n",
    "\n",
    "\n",
    "\n"
   ]
  },
  {
   "cell_type": "markdown",
   "metadata": {},
   "source": [
    "* ¿Qué pasa si aplicamos una prueba de hipótesis para muestras independientes de Balance entre aquellos que son y no son estudiantes?\n"
   ]
  },
  {
   "cell_type": "code",
   "execution_count": 31,
   "metadata": {},
   "outputs": [
    {
     "name": "stdout",
     "output_type": "stream",
     "text": [
      "La Media de Estudiantes es: 876.825\n",
      "La Media de no estudiantes: 480.36944444444447\n",
      "La diferencia de Medias entre Estudiantes y No Estudiantes es: 396.4555555555556\n"
     ]
    }
   ],
   "source": [
    "med_cont = df.query('Student == 1')['Balance'].mean()\n",
    "med_rw = df.query('Student == 0')['Balance'].mean()\n",
    "print(\"La Media de Estudiantes es:\", med_cont) \n",
    "print(\"La Media de no estudiantes:\", med_rw)\n",
    "dif_med = med_cont - med_rw\n",
    "print(\"La diferencia de Medias entre Estudiantes y No Estudiantes es:\", dif_med)"
   ]
  },
  {
   "cell_type": "code",
   "execution_count": 32,
   "metadata": {},
   "outputs": [
    {
     "data": {
      "text/plain": [
       "Ttest_indResult(statistic=5.349964123075003, pvalue=1.4877341077323024e-07)"
      ]
     },
     "execution_count": 32,
     "metadata": {},
     "output_type": "execute_result"
    }
   ],
   "source": [
    "prueba_hipotesis = stats.ttest_ind(df.query('Student == 1')['Balance'].dropna(),     # prueba de hipotesis\n",
    "                df.query('Student == 0')['Balance'].dropna())\n",
    "prueba_hipotesis"
   ]
  },
  {
   "cell_type": "markdown",
   "metadata": {},
   "source": [
    "* La prueba de hipótesis con un valor muy inferior a 0.05 nos indica que existe una diferencia de medias para los valores de Balance entre los grupos de estudiante y no-estudiante"
   ]
  },
  {
   "cell_type": "markdown",
   "metadata": {},
   "source": [
    "### Desafío 4: Genere un modelo que incluya todos los regresores\n",
    "\n",
    "* Comente brevemente sobre el poder explicativo en la varianza de Y las principales características de los predictores.\n"
   ]
  },
  {
   "cell_type": "code",
   "execution_count": 40,
   "metadata": {},
   "outputs": [
    {
     "data": {
      "text/html": [
       "<table class=\"simpletable\">\n",
       "<caption>OLS Regression Results</caption>\n",
       "<tr>\n",
       "  <th>Dep. Variable:</th>         <td>Balance</td>     <th>  R-squared:         </th> <td>   0.955</td> \n",
       "</tr>\n",
       "<tr>\n",
       "  <th>Model:</th>                   <td>OLS</td>       <th>  Adj. R-squared:    </th> <td>   0.954</td> \n",
       "</tr>\n",
       "<tr>\n",
       "  <th>Method:</th>             <td>Least Squares</td>  <th>  F-statistic:       </th> <td>   750.3</td> \n",
       "</tr>\n",
       "<tr>\n",
       "  <th>Date:</th>             <td>Mon, 22 Jul 2019</td> <th>  Prob (F-statistic):</th> <td>1.11e-253</td>\n",
       "</tr>\n",
       "<tr>\n",
       "  <th>Time:</th>                 <td>00:40:19</td>     <th>  Log-Likelihood:    </th> <td> -2398.7</td> \n",
       "</tr>\n",
       "<tr>\n",
       "  <th>No. Observations:</th>      <td>   400</td>      <th>  AIC:               </th> <td>   4821.</td> \n",
       "</tr>\n",
       "<tr>\n",
       "  <th>Df Residuals:</th>          <td>   388</td>      <th>  BIC:               </th> <td>   4869.</td> \n",
       "</tr>\n",
       "<tr>\n",
       "  <th>Df Model:</th>              <td>    11</td>      <th>                     </th>     <td> </td>    \n",
       "</tr>\n",
       "<tr>\n",
       "  <th>Covariance Type:</th>      <td>nonrobust</td>    <th>                     </th>     <td> </td>    \n",
       "</tr>\n",
       "</table>\n",
       "<table class=\"simpletable\">\n",
       "<tr>\n",
       "             <td></td>               <th>coef</th>     <th>std err</th>      <th>t</th>      <th>P>|t|</th>  <th>[0.025</th>    <th>0.975]</th>  \n",
       "</tr>\n",
       "<tr>\n",
       "  <th>Intercept</th>              <td> -200.5824</td> <td>   14.106</td> <td>  -14.220</td> <td> 0.000</td> <td> -228.315</td> <td> -172.850</td>\n",
       "</tr>\n",
       "<tr>\n",
       "  <th>Gender[T.Female]</th>       <td> -105.6178</td> <td>    8.612</td> <td>  -12.264</td> <td> 0.000</td> <td> -122.550</td> <td>  -88.686</td>\n",
       "</tr>\n",
       "<tr>\n",
       "  <th>Married[T.Yes]</th>         <td> -104.5582</td> <td>    8.828</td> <td>  -11.843</td> <td> 0.000</td> <td> -121.916</td> <td>  -87.201</td>\n",
       "</tr>\n",
       "<tr>\n",
       "  <th>Ethnicity[T.Asian]</th>     <td>  -35.4162</td> <td>    5.266</td> <td>   -6.725</td> <td> 0.000</td> <td>  -45.770</td> <td>  -25.062</td>\n",
       "</tr>\n",
       "<tr>\n",
       "  <th>Ethnicity[T.Caucasian]</th> <td>  -77.5296</td> <td>    8.063</td> <td>   -9.615</td> <td> 0.000</td> <td>  -93.383</td> <td>  -61.676</td>\n",
       "</tr>\n",
       "<tr>\n",
       "  <th>Income</th>                 <td>   -7.8031</td> <td>    0.234</td> <td>  -33.314</td> <td> 0.000</td> <td>   -8.264</td> <td>   -7.343</td>\n",
       "</tr>\n",
       "<tr>\n",
       "  <th>Limit</th>                  <td>    0.1909</td> <td>    0.033</td> <td>    5.824</td> <td> 0.000</td> <td>    0.126</td> <td>    0.255</td>\n",
       "</tr>\n",
       "<tr>\n",
       "  <th>Rating</th>                 <td>    1.1365</td> <td>    0.491</td> <td>    2.315</td> <td> 0.021</td> <td>    0.171</td> <td>    2.102</td>\n",
       "</tr>\n",
       "<tr>\n",
       "  <th>Cards</th>                  <td>   17.7245</td> <td>    4.341</td> <td>    4.083</td> <td> 0.000</td> <td>    9.190</td> <td>   26.259</td>\n",
       "</tr>\n",
       "<tr>\n",
       "  <th>Age</th>                    <td>   -0.6139</td> <td>    0.294</td> <td>   -2.088</td> <td> 0.037</td> <td>   -1.192</td> <td>   -0.036</td>\n",
       "</tr>\n",
       "<tr>\n",
       "  <th>Education</th>              <td>   -1.0989</td> <td>    1.598</td> <td>   -0.688</td> <td> 0.492</td> <td>   -4.241</td> <td>    2.043</td>\n",
       "</tr>\n",
       "<tr>\n",
       "  <th>Student</th>                <td>  425.7474</td> <td>   16.723</td> <td>   25.459</td> <td> 0.000</td> <td>  392.869</td> <td>  458.626</td>\n",
       "</tr>\n",
       "<tr>\n",
       "  <th>Asian</th>                  <td>  -35.4162</td> <td>    5.266</td> <td>   -6.725</td> <td> 0.000</td> <td>  -45.770</td> <td>  -25.062</td>\n",
       "</tr>\n",
       "<tr>\n",
       "  <th>African_American</th>       <td>  -87.6366</td> <td>    9.381</td> <td>   -9.342</td> <td> 0.000</td> <td> -106.080</td> <td>  -69.194</td>\n",
       "</tr>\n",
       "<tr>\n",
       "  <th>Single</th>                 <td>  -96.0243</td> <td>    8.674</td> <td>  -11.070</td> <td> 0.000</td> <td> -113.078</td> <td>  -78.971</td>\n",
       "</tr>\n",
       "<tr>\n",
       "  <th>Male</th>                   <td>  -94.9646</td> <td>    8.629</td> <td>  -11.005</td> <td> 0.000</td> <td> -111.930</td> <td>  -77.999</td>\n",
       "</tr>\n",
       "</table>\n",
       "<table class=\"simpletable\">\n",
       "<tr>\n",
       "  <th>Omnibus:</th>       <td>34.899</td> <th>  Durbin-Watson:     </th> <td>   1.968</td>\n",
       "</tr>\n",
       "<tr>\n",
       "  <th>Prob(Omnibus):</th> <td> 0.000</td> <th>  Jarque-Bera (JB):  </th> <td>  41.766</td>\n",
       "</tr>\n",
       "<tr>\n",
       "  <th>Skew:</th>          <td> 0.782</td> <th>  Prob(JB):          </th> <td>8.52e-10</td>\n",
       "</tr>\n",
       "<tr>\n",
       "  <th>Kurtosis:</th>      <td> 3.241</td> <th>  Cond. No.          </th> <td>3.09e+19</td>\n",
       "</tr>\n",
       "</table><br/><br/>Warnings:<br/>[1] Standard Errors assume that the covariance matrix of the errors is correctly specified.<br/>[2] The smallest eigenvalue is 1.17e-29. This might indicate that there are<br/>strong multicollinearity problems or that the design matrix is singular."
      ],
      "text/plain": [
       "<class 'statsmodels.iolib.summary.Summary'>\n",
       "\"\"\"\n",
       "                            OLS Regression Results                            \n",
       "==============================================================================\n",
       "Dep. Variable:                Balance   R-squared:                       0.955\n",
       "Model:                            OLS   Adj. R-squared:                  0.954\n",
       "Method:                 Least Squares   F-statistic:                     750.3\n",
       "Date:                Mon, 22 Jul 2019   Prob (F-statistic):          1.11e-253\n",
       "Time:                        00:40:19   Log-Likelihood:                -2398.7\n",
       "No. Observations:                 400   AIC:                             4821.\n",
       "Df Residuals:                     388   BIC:                             4869.\n",
       "Df Model:                          11                                         \n",
       "Covariance Type:            nonrobust                                         \n",
       "==========================================================================================\n",
       "                             coef    std err          t      P>|t|      [0.025      0.975]\n",
       "------------------------------------------------------------------------------------------\n",
       "Intercept               -200.5824     14.106    -14.220      0.000    -228.315    -172.850\n",
       "Gender[T.Female]        -105.6178      8.612    -12.264      0.000    -122.550     -88.686\n",
       "Married[T.Yes]          -104.5582      8.828    -11.843      0.000    -121.916     -87.201\n",
       "Ethnicity[T.Asian]       -35.4162      5.266     -6.725      0.000     -45.770     -25.062\n",
       "Ethnicity[T.Caucasian]   -77.5296      8.063     -9.615      0.000     -93.383     -61.676\n",
       "Income                    -7.8031      0.234    -33.314      0.000      -8.264      -7.343\n",
       "Limit                      0.1909      0.033      5.824      0.000       0.126       0.255\n",
       "Rating                     1.1365      0.491      2.315      0.021       0.171       2.102\n",
       "Cards                     17.7245      4.341      4.083      0.000       9.190      26.259\n",
       "Age                       -0.6139      0.294     -2.088      0.037      -1.192      -0.036\n",
       "Education                 -1.0989      1.598     -0.688      0.492      -4.241       2.043\n",
       "Student                  425.7474     16.723     25.459      0.000     392.869     458.626\n",
       "Asian                    -35.4162      5.266     -6.725      0.000     -45.770     -25.062\n",
       "African_American         -87.6366      9.381     -9.342      0.000    -106.080     -69.194\n",
       "Single                   -96.0243      8.674    -11.070      0.000    -113.078     -78.971\n",
       "Male                     -94.9646      8.629    -11.005      0.000    -111.930     -77.999\n",
       "==============================================================================\n",
       "Omnibus:                       34.899   Durbin-Watson:                   1.968\n",
       "Prob(Omnibus):                  0.000   Jarque-Bera (JB):               41.766\n",
       "Skew:                           0.782   Prob(JB):                     8.52e-10\n",
       "Kurtosis:                       3.241   Cond. No.                     3.09e+19\n",
       "==============================================================================\n",
       "\n",
       "Warnings:\n",
       "[1] Standard Errors assume that the covariance matrix of the errors is correctly specified.\n",
       "[2] The smallest eigenvalue is 1.17e-29. This might indicate that there are\n",
       "strong multicollinearity problems or that the design matrix is singular.\n",
       "\"\"\""
      ]
     },
     "execution_count": 40,
     "metadata": {},
     "output_type": "execute_result"
    }
   ],
   "source": [
    "variables= list(df.columns) #lista con todas las variables\n",
    "variables.remove('Balance') # Para evitar un error de autocorrelación removemos la variable dependiente de la lista\n",
    "var=' + '.join(variables)\n",
    "modelo_general = smf.ols('Balance ~ '+ var, df).fit()\n",
    "modelo_general.summary()"
   ]
  },
  {
   "cell_type": "code",
   "execution_count": 42,
   "metadata": {},
   "outputs": [
    {
     "data": {
      "text/plain": [
       "['Income',\n",
       " 'Limit',\n",
       " 'Rating',\n",
       " 'Cards',\n",
       " 'Age',\n",
       " 'Education',\n",
       " 'Gender',\n",
       " 'Student',\n",
       " 'Married',\n",
       " 'Ethnicity',\n",
       " 'Balance',\n",
       " 'Asian',\n",
       " 'African_American',\n",
       " 'Single',\n",
       " 'Male']"
      ]
     },
     "execution_count": 42,
     "metadata": {},
     "output_type": "execute_result"
    }
   ],
   "source": [
    "variables= list(df.columns)\n",
    "variables"
   ]
  },
  {
   "cell_type": "markdown",
   "metadata": {},
   "source": [
    "* Este modelo explica un 95 % de la varianza, lo que lo hace que tenga una gran fuerza predictiva (Adj. R-squared:\t0.954), el r cuadrado ajustado, disminuye los efectos aditivos de añadir y combinar linealmente muchas variables al modelo, el f de probabilidad indica que el modelo es significativo estadísticamente al ser muy inferior al p-valor 0.05(2 colas). Los regresores en su mayoría salvo Education, son estadísticamente significativos y tienen diferentes tendencias de asociación, positivas y negativas"
   ]
  },
  {
   "cell_type": "markdown",
   "metadata": {},
   "source": [
    "### Desafío 5: Depure el modelo e incluya sólo los predictores significativo\n",
    "\n",
    "* En base al modelo anterior, refactorize e incluya sólo las variables con un nivel de significancia p-value <= 0.025. Comente brevemente sobre el poder explicativo en la varianza de Y las principales características de los predictores.\n",
    "* ¿Mejoró o empeoró el modelo con la reducción de regresores?\n"
   ]
  },
  {
   "cell_type": "code",
   "execution_count": 35,
   "metadata": {},
   "outputs": [
    {
     "name": "stdout",
     "output_type": "stream",
     "text": [
      "Las siguientes variables son estadísticamente significativas: \n",
      "Intercept                  3.129771e-37\n",
      "Gender[T.Female]           1.901128e-29\n",
      "Married[T.Yes]             7.802116e-28\n",
      "Ethnicity[T.Asian]         6.303277e-11\n",
      "Ethnicity[T.Caucasian]     8.997201e-20\n",
      "Income                    7.372312e-116\n",
      "Limit                      1.205974e-08\n",
      "Rating                     2.112213e-02\n",
      "Cards                      5.401200e-05\n",
      "Student                    8.854521e-85\n",
      "Asian                      6.303277e-11\n",
      "African_American           7.507437e-19\n",
      "Single                     6.118766e-25\n",
      "Male                       1.063622e-24\n",
      "dtype: float64\n"
     ]
    }
   ],
   "source": [
    "pvalues = modelo_general.pvalues\n",
    "print ('Las siguientes variables son estadísticamente significativas: ')        \n",
    "means_values= pd.Series(pvalues).where(lambda x : x<0.025).dropna() \n",
    "print(means_values)\n",
    "\n",
    "df.columns\n",
    "\n",
    "\n",
    "\n"
   ]
  },
  {
   "cell_type": "code",
   "execution_count": 45,
   "metadata": {},
   "outputs": [],
   "source": [
    "# generamos un modelo con variables estadísticamente significativas\n",
    "\n",
    "variables= list(df.columns)\n",
    "variables.remove('Balance')  \n",
    "variables.remove('Age')  \n",
    "variables.remove('Education')  \n",
    "var_2=' + '.join(variables)\n",
    "\n",
    "\n",
    "\n"
   ]
  },
  {
   "cell_type": "code",
   "execution_count": 46,
   "metadata": {},
   "outputs": [
    {
     "data": {
      "text/html": [
       "<table class=\"simpletable\">\n",
       "<caption>OLS Regression Results</caption>\n",
       "<tr>\n",
       "  <th>Dep. Variable:</th>         <td>Balance</td>     <th>  R-squared:         </th> <td>   0.955</td> \n",
       "</tr>\n",
       "<tr>\n",
       "  <th>Model:</th>                   <td>OLS</td>       <th>  Adj. R-squared:    </th> <td>   0.953</td> \n",
       "</tr>\n",
       "<tr>\n",
       "  <th>Method:</th>             <td>Least Squares</td>  <th>  F-statistic:       </th> <td>   909.8</td> \n",
       "</tr>\n",
       "<tr>\n",
       "  <th>Date:</th>             <td>Mon, 22 Jul 2019</td> <th>  Prob (F-statistic):</th> <td>1.39e-255</td>\n",
       "</tr>\n",
       "<tr>\n",
       "  <th>Time:</th>                 <td>00:47:37</td>     <th>  Log-Likelihood:    </th> <td> -2401.2</td> \n",
       "</tr>\n",
       "<tr>\n",
       "  <th>No. Observations:</th>      <td>   400</td>      <th>  AIC:               </th> <td>   4822.</td> \n",
       "</tr>\n",
       "<tr>\n",
       "  <th>Df Residuals:</th>          <td>   390</td>      <th>  BIC:               </th> <td>   4862.</td> \n",
       "</tr>\n",
       "<tr>\n",
       "  <th>Df Model:</th>              <td>     9</td>      <th>                     </th>     <td> </td>    \n",
       "</tr>\n",
       "<tr>\n",
       "  <th>Covariance Type:</th>      <td>nonrobust</td>    <th>                     </th>     <td> </td>    \n",
       "</tr>\n",
       "</table>\n",
       "<table class=\"simpletable\">\n",
       "<tr>\n",
       "             <td></td>               <th>coef</th>     <th>std err</th>      <th>t</th>      <th>P>|t|</th>  <th>[0.025</th>    <th>0.975]</th>  \n",
       "</tr>\n",
       "<tr>\n",
       "  <th>Intercept</th>              <td> -220.5780</td> <td>    8.301</td> <td>  -26.572</td> <td> 0.000</td> <td> -236.899</td> <td> -204.257</td>\n",
       "</tr>\n",
       "<tr>\n",
       "  <th>Gender[T.Female]</th>       <td> -115.7194</td> <td>    6.476</td> <td>  -17.870</td> <td> 0.000</td> <td> -128.451</td> <td> -102.988</td>\n",
       "</tr>\n",
       "<tr>\n",
       "  <th>Married[T.Yes]</th>         <td> -113.9601</td> <td>    6.687</td> <td>  -17.042</td> <td> 0.000</td> <td> -127.107</td> <td> -100.813</td>\n",
       "</tr>\n",
       "<tr>\n",
       "  <th>Ethnicity[T.Asian]</th>     <td>  -38.9046</td> <td>    4.805</td> <td>   -8.096</td> <td> 0.000</td> <td>  -48.352</td> <td>  -29.457</td>\n",
       "</tr>\n",
       "<tr>\n",
       "  <th>Ethnicity[T.Caucasian]</th> <td>  -85.2427</td> <td>    6.805</td> <td>  -12.526</td> <td> 0.000</td> <td>  -98.622</td> <td>  -71.863</td>\n",
       "</tr>\n",
       "<tr>\n",
       "  <th>Income</th>                 <td>   -7.8797</td> <td>    0.232</td> <td>  -33.973</td> <td> 0.000</td> <td>   -8.336</td> <td>   -7.424</td>\n",
       "</tr>\n",
       "<tr>\n",
       "  <th>Limit</th>                  <td>    0.1902</td> <td>    0.033</td> <td>    5.798</td> <td> 0.000</td> <td>    0.126</td> <td>    0.255</td>\n",
       "</tr>\n",
       "<tr>\n",
       "  <th>Rating</th>                 <td>    1.1550</td> <td>    0.491</td> <td>    2.351</td> <td> 0.019</td> <td>    0.189</td> <td>    2.121</td>\n",
       "</tr>\n",
       "<tr>\n",
       "  <th>Cards</th>                  <td>   17.3904</td> <td>    4.354</td> <td>    3.994</td> <td> 0.000</td> <td>    8.830</td> <td>   25.951</td>\n",
       "</tr>\n",
       "<tr>\n",
       "  <th>Student</th>                <td>  426.2112</td> <td>   16.715</td> <td>   25.499</td> <td> 0.000</td> <td>  393.349</td> <td>  459.074</td>\n",
       "</tr>\n",
       "<tr>\n",
       "  <th>Asian</th>                  <td>  -38.9046</td> <td>    4.805</td> <td>   -8.096</td> <td> 0.000</td> <td>  -48.352</td> <td>  -29.457</td>\n",
       "</tr>\n",
       "<tr>\n",
       "  <th>African_American</th>       <td>  -96.4307</td> <td>    8.037</td> <td>  -11.998</td> <td> 0.000</td> <td> -112.233</td> <td>  -80.629</td>\n",
       "</tr>\n",
       "<tr>\n",
       "  <th>Single</th>                 <td> -106.6179</td> <td>    6.580</td> <td>  -16.204</td> <td> 0.000</td> <td> -119.554</td> <td>  -93.682</td>\n",
       "</tr>\n",
       "<tr>\n",
       "  <th>Male</th>                   <td> -104.8586</td> <td>    6.482</td> <td>  -16.177</td> <td> 0.000</td> <td> -117.602</td> <td>  -92.115</td>\n",
       "</tr>\n",
       "</table>\n",
       "<table class=\"simpletable\">\n",
       "<tr>\n",
       "  <th>Omnibus:</th>       <td>31.777</td> <th>  Durbin-Watson:     </th> <td>   1.965</td>\n",
       "</tr>\n",
       "<tr>\n",
       "  <th>Prob(Omnibus):</th> <td> 0.000</td> <th>  Jarque-Bera (JB):  </th> <td>  37.281</td>\n",
       "</tr>\n",
       "<tr>\n",
       "  <th>Skew:</th>          <td> 0.739</td> <th>  Prob(JB):          </th> <td>8.03e-09</td>\n",
       "</tr>\n",
       "<tr>\n",
       "  <th>Kurtosis:</th>      <td> 3.224</td> <th>  Cond. No.          </th> <td>8.07e+19</td>\n",
       "</tr>\n",
       "</table><br/><br/>Warnings:<br/>[1] Standard Errors assume that the covariance matrix of the errors is correctly specified.<br/>[2] The smallest eigenvalue is 1.71e-30. This might indicate that there are<br/>strong multicollinearity problems or that the design matrix is singular."
      ],
      "text/plain": [
       "<class 'statsmodels.iolib.summary.Summary'>\n",
       "\"\"\"\n",
       "                            OLS Regression Results                            \n",
       "==============================================================================\n",
       "Dep. Variable:                Balance   R-squared:                       0.955\n",
       "Model:                            OLS   Adj. R-squared:                  0.953\n",
       "Method:                 Least Squares   F-statistic:                     909.8\n",
       "Date:                Mon, 22 Jul 2019   Prob (F-statistic):          1.39e-255\n",
       "Time:                        00:47:37   Log-Likelihood:                -2401.2\n",
       "No. Observations:                 400   AIC:                             4822.\n",
       "Df Residuals:                     390   BIC:                             4862.\n",
       "Df Model:                           9                                         \n",
       "Covariance Type:            nonrobust                                         \n",
       "==========================================================================================\n",
       "                             coef    std err          t      P>|t|      [0.025      0.975]\n",
       "------------------------------------------------------------------------------------------\n",
       "Intercept               -220.5780      8.301    -26.572      0.000    -236.899    -204.257\n",
       "Gender[T.Female]        -115.7194      6.476    -17.870      0.000    -128.451    -102.988\n",
       "Married[T.Yes]          -113.9601      6.687    -17.042      0.000    -127.107    -100.813\n",
       "Ethnicity[T.Asian]       -38.9046      4.805     -8.096      0.000     -48.352     -29.457\n",
       "Ethnicity[T.Caucasian]   -85.2427      6.805    -12.526      0.000     -98.622     -71.863\n",
       "Income                    -7.8797      0.232    -33.973      0.000      -8.336      -7.424\n",
       "Limit                      0.1902      0.033      5.798      0.000       0.126       0.255\n",
       "Rating                     1.1550      0.491      2.351      0.019       0.189       2.121\n",
       "Cards                     17.3904      4.354      3.994      0.000       8.830      25.951\n",
       "Student                  426.2112     16.715     25.499      0.000     393.349     459.074\n",
       "Asian                    -38.9046      4.805     -8.096      0.000     -48.352     -29.457\n",
       "African_American         -96.4307      8.037    -11.998      0.000    -112.233     -80.629\n",
       "Single                  -106.6179      6.580    -16.204      0.000    -119.554     -93.682\n",
       "Male                    -104.8586      6.482    -16.177      0.000    -117.602     -92.115\n",
       "==============================================================================\n",
       "Omnibus:                       31.777   Durbin-Watson:                   1.965\n",
       "Prob(Omnibus):                  0.000   Jarque-Bera (JB):               37.281\n",
       "Skew:                           0.739   Prob(JB):                     8.03e-09\n",
       "Kurtosis:                       3.224   Cond. No.                     8.07e+19\n",
       "==============================================================================\n",
       "\n",
       "Warnings:\n",
       "[1] Standard Errors assume that the covariance matrix of the errors is correctly specified.\n",
       "[2] The smallest eigenvalue is 1.71e-30. This might indicate that there are\n",
       "strong multicollinearity problems or that the design matrix is singular.\n",
       "\"\"\""
      ]
     },
     "execution_count": 46,
     "metadata": {},
     "output_type": "execute_result"
    }
   ],
   "source": [
    "modelo_general_depurado = smf.ols('Balance~ '+ var_2, df).fit()\n",
    "modelo_general_depurado.summary()"
   ]
  },
  {
   "cell_type": "markdown",
   "metadata": {},
   "source": [
    "* Al depurar el modelo con variables estadísticamente significativas, los cambios son infimos en el R cuadrado ajustado, pero se puede probar otra estrategia, que es inspeccionar las correlaciones parciales para la variable Balance y eliminar aquellas variables que tenga un valor de correlación inferior a 0.4 para simplifica el modelo"
   ]
  },
  {
   "cell_type": "code",
   "execution_count": 67,
   "metadata": {},
   "outputs": [
    {
     "data": {
      "text/plain": [
       "Income              0.463656\n",
       "Limit               0.861697\n",
       "Rating              0.863625\n",
       "Cards               0.086456\n",
       "Age                 0.001835\n",
       "Education          -0.008062\n",
       "Student             0.259018\n",
       "Balance             1.000000\n",
       "Asian              -0.009812\n",
       "African_American    0.013720\n",
       "Single              0.005673\n",
       "Male               -0.021474\n",
       "Name: Balance, dtype: float64"
      ]
     },
     "execution_count": 67,
     "metadata": {},
     "output_type": "execute_result"
    }
   ],
   "source": [
    "df.corr()['Balance']"
   ]
  },
  {
   "cell_type": "code",
   "execution_count": 68,
   "metadata": {},
   "outputs": [
    {
     "data": {
      "text/plain": [
       "Income               True\n",
       "Limit                True\n",
       "Rating               True\n",
       "Cards               False\n",
       "Age                 False\n",
       "Education           False\n",
       "Student             False\n",
       "Balance              True\n",
       "Asian               False\n",
       "African_American    False\n",
       "Single              False\n",
       "Male                False\n",
       "Name: Balance, dtype: bool"
      ]
     },
     "execution_count": 68,
     "metadata": {},
     "output_type": "execute_result"
    }
   ],
   "source": [
    "df.corr()['Balance']>0.4"
   ]
  },
  {
   "cell_type": "markdown",
   "metadata": {},
   "source": [
    " - Podemos apreciar que las variables Income, Limit y Rating son explicativas con un r mayor a 0.4, con éstas variables probaremos un nuevo modelo"
   ]
  },
  {
   "cell_type": "code",
   "execution_count": 71,
   "metadata": {},
   "outputs": [
    {
     "data": {
      "text/html": [
       "<table class=\"simpletable\">\n",
       "<caption>OLS Regression Results</caption>\n",
       "<tr>\n",
       "  <th>Dep. Variable:</th>         <td>Balance</td>     <th>  R-squared:         </th> <td>   0.876</td> \n",
       "</tr>\n",
       "<tr>\n",
       "  <th>Model:</th>                   <td>OLS</td>       <th>  Adj. R-squared:    </th> <td>   0.875</td> \n",
       "</tr>\n",
       "<tr>\n",
       "  <th>Method:</th>             <td>Least Squares</td>  <th>  F-statistic:       </th> <td>   934.6</td> \n",
       "</tr>\n",
       "<tr>\n",
       "  <th>Date:</th>             <td>Mon, 22 Jul 2019</td> <th>  Prob (F-statistic):</th> <td>3.20e-179</td>\n",
       "</tr>\n",
       "<tr>\n",
       "  <th>Time:</th>                 <td>01:03:15</td>     <th>  Log-Likelihood:    </th> <td> -2601.5</td> \n",
       "</tr>\n",
       "<tr>\n",
       "  <th>No. Observations:</th>      <td>   400</td>      <th>  AIC:               </th> <td>   5211.</td> \n",
       "</tr>\n",
       "<tr>\n",
       "  <th>Df Residuals:</th>          <td>   396</td>      <th>  BIC:               </th> <td>   5227.</td> \n",
       "</tr>\n",
       "<tr>\n",
       "  <th>Df Model:</th>              <td>     3</td>      <th>                     </th>     <td> </td>    \n",
       "</tr>\n",
       "<tr>\n",
       "  <th>Covariance Type:</th>      <td>nonrobust</td>    <th>                     </th>     <td> </td>    \n",
       "</tr>\n",
       "</table>\n",
       "<table class=\"simpletable\">\n",
       "<tr>\n",
       "      <td></td>         <th>coef</th>     <th>std err</th>      <th>t</th>      <th>P>|t|</th>  <th>[0.025</th>    <th>0.975]</th>  \n",
       "</tr>\n",
       "<tr>\n",
       "  <th>Intercept</th> <td> -489.7275</td> <td>   32.099</td> <td>  -15.257</td> <td> 0.000</td> <td> -552.833</td> <td> -426.622</td>\n",
       "</tr>\n",
       "<tr>\n",
       "  <th>Income</th>    <td>   -7.7193</td> <td>    0.378</td> <td>  -20.418</td> <td> 0.000</td> <td>   -8.463</td> <td>   -6.976</td>\n",
       "</tr>\n",
       "<tr>\n",
       "  <th>Limit</th>     <td>    0.0847</td> <td>    0.045</td> <td>    1.894</td> <td> 0.059</td> <td>   -0.003</td> <td>    0.173</td>\n",
       "</tr>\n",
       "<tr>\n",
       "  <th>Rating</th>    <td>    2.6986</td> <td>    0.666</td> <td>    4.052</td> <td> 0.000</td> <td>    1.389</td> <td>    4.008</td>\n",
       "</tr>\n",
       "</table>\n",
       "<table class=\"simpletable\">\n",
       "<tr>\n",
       "  <th>Omnibus:</th>       <td>95.253</td> <th>  Durbin-Watson:     </th> <td>   1.905</td>\n",
       "</tr>\n",
       "<tr>\n",
       "  <th>Prob(Omnibus):</th> <td> 0.000</td> <th>  Jarque-Bera (JB):  </th> <td> 168.312</td>\n",
       "</tr>\n",
       "<tr>\n",
       "  <th>Skew:</th>          <td> 1.373</td> <th>  Prob(JB):          </th> <td>2.83e-37</td>\n",
       "</tr>\n",
       "<tr>\n",
       "  <th>Kurtosis:</th>      <td> 4.601</td> <th>  Cond. No.          </th> <td>2.09e+04</td>\n",
       "</tr>\n",
       "</table><br/><br/>Warnings:<br/>[1] Standard Errors assume that the covariance matrix of the errors is correctly specified.<br/>[2] The condition number is large, 2.09e+04. This might indicate that there are<br/>strong multicollinearity or other numerical problems."
      ],
      "text/plain": [
       "<class 'statsmodels.iolib.summary.Summary'>\n",
       "\"\"\"\n",
       "                            OLS Regression Results                            \n",
       "==============================================================================\n",
       "Dep. Variable:                Balance   R-squared:                       0.876\n",
       "Model:                            OLS   Adj. R-squared:                  0.875\n",
       "Method:                 Least Squares   F-statistic:                     934.6\n",
       "Date:                Mon, 22 Jul 2019   Prob (F-statistic):          3.20e-179\n",
       "Time:                        01:03:15   Log-Likelihood:                -2601.5\n",
       "No. Observations:                 400   AIC:                             5211.\n",
       "Df Residuals:                     396   BIC:                             5227.\n",
       "Df Model:                           3                                         \n",
       "Covariance Type:            nonrobust                                         \n",
       "==============================================================================\n",
       "                 coef    std err          t      P>|t|      [0.025      0.975]\n",
       "------------------------------------------------------------------------------\n",
       "Intercept   -489.7275     32.099    -15.257      0.000    -552.833    -426.622\n",
       "Income        -7.7193      0.378    -20.418      0.000      -8.463      -6.976\n",
       "Limit          0.0847      0.045      1.894      0.059      -0.003       0.173\n",
       "Rating         2.6986      0.666      4.052      0.000       1.389       4.008\n",
       "==============================================================================\n",
       "Omnibus:                       95.253   Durbin-Watson:                   1.905\n",
       "Prob(Omnibus):                  0.000   Jarque-Bera (JB):              168.312\n",
       "Skew:                           1.373   Prob(JB):                     2.83e-37\n",
       "Kurtosis:                       4.601   Cond. No.                     2.09e+04\n",
       "==============================================================================\n",
       "\n",
       "Warnings:\n",
       "[1] Standard Errors assume that the covariance matrix of the errors is correctly specified.\n",
       "[2] The condition number is large, 2.09e+04. This might indicate that there are\n",
       "strong multicollinearity or other numerical problems.\n",
       "\"\"\""
      ]
     },
     "execution_count": 71,
     "metadata": {},
     "output_type": "execute_result"
    }
   ],
   "source": [
    "modelo_general_depurado2 = smf.ols('Balance~ Income + Limit + Rating', df).fit()\n",
    "modelo_general_depurado2.summary()"
   ]
  },
  {
   "cell_type": "markdown",
   "metadata": {},
   "source": [
    "* Al depurar el modelo con variables estadísticamente significativas y explicativas de la varianza sobre un r de 0.4, se obtiene un modelo con un r cuadrado ajustado de 0.875, cercano a 0.88, que es muy bueno estadísticamente, si bien es inferior a al modelo anterior, es mucho más sencillo trabajar con tres variables independientes que con  13 variables, cuya explicación de la varianza es superior al 80 %"
   ]
  },
  {
   "cell_type": "code",
   "execution_count": null,
   "metadata": {},
   "outputs": [],
   "source": []
  },
  {
   "cell_type": "markdown",
   "metadata": {},
   "source": [
    "### Desafío 6:\n",
    "\n",
    "* Utilizando lmplot de seaborn , inspeccione el comportamiento de los tres principales determinantes."
   ]
  },
  {
   "cell_type": "markdown",
   "metadata": {},
   "source": [
    "- Los 3 principales regresores son Income, Limit y Rating "
   ]
  },
  {
   "cell_type": "code",
   "execution_count": 61,
   "metadata": {},
   "outputs": [
    {
     "data": {
      "text/plain": [
       "<seaborn.axisgrid.FacetGrid at 0x1d50e6b5b70>"
      ]
     },
     "execution_count": 61,
     "metadata": {},
     "output_type": "execute_result"
    },
    {
     "data": {
      "image/png": "[encoded data removed]",
      "text/plain": [
       "<Figure size 360x360 with 1 Axes>"
      ]
     },
     "metadata": {
      "needs_background": "light"
     },
     "output_type": "display_data"
    }
   ],
   "source": [
    "sns.lmplot('Rating', 'Balance', df)"
   ]
  },
  {
   "cell_type": "markdown",
   "metadata": {},
   "source": [
    "- Se aprecia una correlación líneal positiva bastante marcada entre Balance y Rating, la varianza no es tan grande, y no se observan demasiados casos atípicos (outliers)"
   ]
  },
  {
   "cell_type": "code",
   "execution_count": 72,
   "metadata": {},
   "outputs": [
    {
     "data": {
      "text/plain": [
       "<seaborn.axisgrid.FacetGrid at 0xd4b3f28>"
      ]
     },
     "execution_count": 72,
     "metadata": {},
     "output_type": "execute_result"
    },
    {
     "data": {
      "image/png": "[encoded data removed]",
      "text/plain": [
       "<Figure size 360x360 with 1 Axes>"
      ]
     },
     "metadata": {
      "needs_background": "light"
     },
     "output_type": "display_data"
    }
   ],
   "source": [
    "sns.lmplot('Limit', 'Balance', df)"
   ]
  },
  {
   "cell_type": "markdown",
   "metadata": {},
   "source": [
    "- Se aprecia una correlación líneal positiva bastante marcada entre Balance y Limit, la varianza no es tan grande, y no se observan demasiados casos atípicos (outliers)"
   ]
  },
  {
   "cell_type": "code",
   "execution_count": 67,
   "metadata": {},
   "outputs": [
    {
     "data": {
      "text/plain": [
       "<seaborn.axisgrid.FacetGrid at 0x1d50f96b588>"
      ]
     },
     "execution_count": 67,
     "metadata": {},
     "output_type": "execute_result"
    },
    {
     "data": {
      "image/png": "[encoded data removed]",
      "text/plain": [
       "<Figure size 360x360 with 1 Axes>"
      ]
     },
     "metadata": {
      "needs_background": "light"
     },
     "output_type": "display_data"
    }
   ],
   "source": [
    "sns.lmplot('Income', 'Balance', df)"
   ]
  },
  {
   "cell_type": "markdown",
   "metadata": {},
   "source": [
    "- Se aprecia una regresión líneal parcial y aparente entre Balance e Income, la varianza  es grande, y  se observan varios casos atípicos (outliers), esto concuerda con los valores de r cercanos a 0,46, talvez una función exponencial o logarítmica se ajusten mejor a los datos"
   ]
  },
  {
   "cell_type": "code",
   "execution_count": null,
   "metadata": {},
   "outputs": [],
   "source": []
  }
 ],
 "metadata": {
  "hide_input": false,
  "kernelspec": {
   "display_name": "Python 3",
   "language": "python",
   "name": "python3"
  },
  "language_info": {
   "codemirror_mode": {
    "name": "ipython",
    "version": 3
   },
   "file_extension": ".py",
   "mimetype": "text/x-python",
   "name": "python",
   "nbconvert_exporter": "python",
   "pygments_lexer": "ipython3",
   "version": "3.7.3"
  }
 },
 "nbformat": 4,
 "nbformat_minor": 2
}
